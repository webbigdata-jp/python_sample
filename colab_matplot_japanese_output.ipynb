{
  "nbformat": 4,
  "nbformat_minor": 0,
  "metadata": {
    "colab": {
      "name": "colab_matplot_japanese_output.ipynb",
      "provenance": [],
      "collapsed_sections": [],
      "include_colab_link": true
    },
    "kernelspec": {
      "name": "python3",
      "display_name": "Python 3"
    },
    "language_info": {
      "name": "python"
    }
  },
  "cells": [
    {
      "cell_type": "markdown",
      "metadata": {
        "id": "view-in-github",
        "colab_type": "text"
      },
      "source": [
        "<a href=\"https://colab.research.google.com/github/webbigdata-jp/python_sample/blob/main/colab_matplot_japanese_output.ipynb\" target=\"_parent\"><img src=\"https://colab.research.google.com/assets/colab-badge.svg\" alt=\"Open In Colab\"/></a>"
      ]
    },
    {
      "cell_type": "markdown",
      "metadata": {
        "id": "4pOvnZ2BtrPQ"
      },
      "source": [
        "# Colab上でmatplotlibのグラフ内に日本語使う\n",
        "\n",
        "## 参考サイト\n",
        "### IPAフォント\n",
        "IPAが提供している日本語フォント  \n",
        "https://moji.or.jp/ipafont/\n",
        "\n",
        "2021年7月16日時点ではMatPlotlibで日本語を扱うための情報は古い情報と新しい情報、動作プラットフォームなどの前提条件がごっちゃになっており、Colab上で動かすために苦戦しました。こちらの方がページの情報が一番参考になりました。  \n",
        "https://colab.research.google.com/github/aquapathos/Semi3B/blob/master/HowToUseJapaneseOnColab.ipynb\n",
        "\n",
        "まとめると以下の２つのいずれかです。\n",
        "\n",
        "#### (1)japanize-matplotlibを使わせて頂く方法\n",
        "これが一番楽と思います。\n",
        "https://pypi.org/project/japanize-matplotlib/\n",
        "\n",
        "#### (2)フォントからインストールする方法\n",
        "今回のColabではこちらの手法でいきます。上手くいかない場合は「matplotlibのキャッシュの削除」と「Colabのランタイムの再起動」を忘れていないか確認しましょう。一般論ですが、Colab以外で上手く動作している手法がColabで上手く動かない場合は「とりあえずランタイムの再起動」は試してみる価値があります。\n"
      ]
    },
    {
      "cell_type": "code",
      "metadata": {
        "id": "MOyuvvtausNV"
      },
      "source": [
        "# 日本語フォントをダウンロード\n",
        "!apt install fonts-ipaexfont\n",
        "# フォントがインストールされた事を確認\n",
        "!fc-list"
      ],
      "execution_count": null,
      "outputs": []
    },
    {
      "cell_type": "code",
      "metadata": {
        "id": "sTEwuhG6nfJ3"
      },
      "source": [
        "# ランタイム再起動時などにmatplotlibのキャッシュが悪さする事があるのでセル自動実行するケースのためにここに配置しておく\n",
        "!ls -al ~/.cache/matplotlib/\n",
        "!rm -f ~/.cache/matplotlib/font*\n",
        "!ls -al ~/.cache/matplotlib/"
      ],
      "execution_count": null,
      "outputs": []
    },
    {
      "cell_type": "code",
      "metadata": {
        "id": "TAuohQ5L0sNY"
      },
      "source": [
        "# 設定ファイルの場所を確認\n",
        "# Versionによって異なります。「/usr/local/lib/python3.7/dist-packages/matplotlib/mpl-data/matplotlibrc」が帰ってくる前提です。\n",
        "# 場所がかわっていたら、２つ下のセルのパス部分を書き換えてください\n",
        "# https://self-development.info/ipaexgothic%E3%81%AB%E3%82%88%E3%82%8Bmatplotlib%E3%81%AE%E6%97%A5%E6%9C%AC%E8%AA%9E%E5%8C%96%E3%80%90python%E3%80%91/\n",
        "import matplotlib\n",
        "print(matplotlib.matplotlib_fname())"
      ],
      "execution_count": null,
      "outputs": []
    },
    {
      "cell_type": "code",
      "metadata": {
        "id": "LaDmnD2v0vfz"
      },
      "source": [
        "# コメントを外すべき行を確認\n",
        "!grep \"font.family\" /usr/local/lib/python3.7/dist-packages/matplotlib/mpl-data/matplotlibrc"
      ],
      "execution_count": null,
      "outputs": []
    },
    {
      "cell_type": "code",
      "metadata": {
        "id": "XoTBBSg60wH5"
      },
      "source": [
        "# 設定ファイルを下記１行スクリプトで書き換える\n",
        "!perl -i -pe\"s/#font.family  : sans-serif/font.family  : IPAexGothic/\" /usr/local/lib/python3.7/dist-packages/matplotlib/mpl-data/matplotlibrc\n"
      ],
      "execution_count": null,
      "outputs": []
    },
    {
      "cell_type": "code",
      "metadata": {
        "id": "t86DjW-u7wye"
      },
      "source": [
        "!fc-match"
      ],
      "execution_count": null,
      "outputs": []
    },
    {
      "cell_type": "markdown",
      "metadata": {
        "id": "Rmc4kgKZC4lJ"
      },
      "source": [
        "上のセルが  \n",
        "fonts-japanese-gothic.ttf: \"IPAexGothic\" \"Regular\"  \n",
        "と表示されていたら上段メニューより「ランタイム」→「ランタイムを再起動」してください。\n",
        "\n",
        "# ランタイムを再起動しないと文字化けします\n"
      ]
    },
    {
      "cell_type": "code",
      "metadata": {
        "id": "e21QFV1Q037E"
      },
      "source": [
        "import matplotlib.pyplot as plt\n",
        "plt.plot([1, 2, 3, 4])\n",
        "plt.xlabel('簡単なグラフ')\n",
        "\n",
        "# 繰り返しますが、もし以下のグラフで文字が豆腐状態に化けており、\n",
        "# 「 RuntimeWarning: Glyph 31777 missing from current font.」と言うエラーが出ていたら\n",
        "# (1)上から2番目のセルを再実行してmatplotlibのキャッシュを消す\n",
        "# (2)上段メニューからColabのランタイムを再起動する\n",
        "# をやってから再実行してみてください。\n",
        "plt.show()"
      ],
      "execution_count": null,
      "outputs": []
    }
  ]
}