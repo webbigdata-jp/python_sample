{
  "cells": [
    {
      "cell_type": "markdown",
      "metadata": {
        "id": "view-in-github",
        "colab_type": "text"
      },
      "source": [
        "<a href=\"https://colab.research.google.com/github/webbigdata-jp/python_sample/blob/main/ALMA_7B_Ja_V2_gguf_Free_Colab_sample.ipynb\" target=\"_parent\"><img src=\"https://colab.research.google.com/assets/colab-badge.svg\" alt=\"Open In Colab\"/></a>"
      ]
    },
    {
      "cell_type": "markdown",
      "metadata": {
        "id": "9tCLTsfT_qgA"
      },
      "source": [
        "ALMA-7B-Ja-V2は日英・英日に特化した機械翻訳モデルです。  このColabはmmngaさんが作成してくれた[llama.cpp(gguf)版](https://huggingface.co/mmnga/webbigdata-ALMA-7B-Ja-V2-gguf)の評価コードです。  \n",
        "\n",
        "llama.cpp(gguf)版を使うと、GPUがないMacやColabでも動かす事ができます。\n",
        "\n",
        "ALMA-7B-Ja-V2 is a machine translation model specialized for Japanese-English and English-Japanese.  This Colab is an evaluation code for [llama.cpp(gguf) version](https://huggingface.co/mmnga/webbigdata-ALMA-7B-Ja-V2-gguf) created by mmnga.  \n",
        "\n",
        "With the llama.cpp(gguf) version, you can run it on a Mac or Colab without a GPU."
      ]
    },
    {
      "cell_type": "markdown",
      "source": [
        "llama.cpp版には、12のモデルがあります。サイズを小さくすれば、少ないメモリで高速に動作させることができますが、モデルの性能も低下します。4ビット(q4_0)くらいがバランスが良いと言われていますが、本サンプルコードでは特定の文章を全モデルで翻訳し、どのモデルが貴方の作業に適切かを確認できるようにしたものです。\n",
        "\n",
        "In llama.cpp version, there are 12 models. It is said that about 4 bits (q4_0) is a good balance, but this sample code translates a particular sentence with all the models so that you can see which model is appropriate for your work. This sample code translates a particular sentence across all models so that you can see which model is appropriate for your work.\n",
        "\n",
        "\n",
        "1. webbigdata-ALMA-7B-Ja-V2-q2_K.gguf 2.83 GB\n",
        "2. webbigdata-ALMA-7B-Ja-V2-q3_K_S.gguf 2.95 GB\n",
        "3. webbigdata-ALMA-7B-Ja-V2-q3_K_M.gguf 3.3 GB\n",
        "4. webbigdata-ALMA-7B-Ja-V2-q3_K_L.gguf 3.6 GB\n",
        "5. webbigdata-ALMA-7B-Ja-V2-q4_0.gguf 3.83 GB\n",
        "6. webbigdata-ALMA-7B-Ja-V2-q4_K_S.gguf 3.86 GB\n",
        "7. webbigdata-ALMA-7B-Ja-V2-q4_K_M.gguf 4.08 GB\n",
        "8. webbigdata-ALMA-7B-Ja-V2-q5_0.gguf 4.65 GB\n",
        "9. webbigdata-ALMA-7B-Ja-V2-q5_K_S.gguf 4.65 GB\n",
        "10. webbigdata-ALMA-7B-Ja-V2-q5_K_M.gguf 4.78 GB\n",
        "11. webbigdata-ALMA-7B-Ja-V2-q6_K.gguf 5.53 GB\n",
        "12. webbigdata-ALMA-7B-Ja-V2-q8_0.gguf 7.16 GB\n",
        "\n",
        "上段メニューより「ランタイム」→「全てのセルを実行」で本NoteBookを実行できます。  \n",
        "You can run this NoteBook by selecting \"Runtime\" > \"Run All Cells\" from the top menu.  \n"
      ],
      "metadata": {
        "id": "EO7RPRM9vaKy"
      }
    },
    {
      "cell_type": "code",
      "source": [
        "# 評価用日本語文 Japanese text for evaluation\n",
        "TRANSLATE_TEMPLATE_Ja=\"Translate this from Japanese to English:\\nJapanese: ずんだもんは東北に住む活発でかわいい女の子です。あなた「きみの名前は？」ずんだもん「ボクの名前はずんだもんなのだ。」\\nEnglish:\"\n",
        "\n",
        "# 評価用英語文 English text for evaluation\n",
        "TRANSLATE_TEMPLATE_En=\"Translate this from English to Japanese:\\nEnglish:The book named A Tale of Two Cities was written by Charles. Mary read the book.\\nJapanese:\"\n"
      ],
      "metadata": {
        "id": "c94toQkYzxpk"
      },
      "execution_count": null,
      "outputs": []
    },
    {
      "cell_type": "code",
      "execution_count": null,
      "metadata": {
        "colab": {
          "base_uri": "https://localhost:8080/"
        },
        "id": "ygJ-cNOc_qTi",
        "outputId": "ad2eefb4-3ff0-48e8-e944-0443741968ed"
      },
      "outputs": [
        {
          "output_type": "stream",
          "name": "stdout",
          "text": [
            "I llama.cpp build info: \n",
            "I UNAME_S:   Linux\n",
            "I UNAME_P:   x86_64\n",
            "I UNAME_M:   x86_64\n",
            "I CFLAGS:    -I. -Icommon -D_XOPEN_SOURCE=600 -D_GNU_SOURCE -DNDEBUG  -std=c11   -fPIC -O3 -Wall -Wextra -Wpedantic -Wcast-qual -Wno-unused-function -Wshadow -Wstrict-prototypes -Wpointer-arith -Wmissing-prototypes -Werror=implicit-int -Werror=implicit-function-declaration -Wdouble-promotion -pthread -march=native -mtune=native \n",
            "I CXXFLAGS:  -I. -Icommon -D_XOPEN_SOURCE=600 -D_GNU_SOURCE -DNDEBUG  -std=c++11 -fPIC -O3 -Wall -Wextra -Wpedantic -Wcast-qual -Wno-unused-function -Wmissing-declarations -Wmissing-noreturn -pthread  -Wno-array-bounds -Wno-format-truncation -Wextra-semi -march=native -mtune=native \n",
            "I NVCCFLAGS:  -I. -Icommon -D_XOPEN_SOURCE=600 -D_GNU_SOURCE -DNDEBUG  -std=c++11 -fPIC -O3 -Wall -Wextra -Wpedantic -Wcast-qual -Wno-unused-function -Wmissing-declarations -Wmissing-noreturn -pthread    -Wno-pedantic -Xcompiler \"-Wno-array-bounds -Wno-format-truncation -Wextra-semi -march=native -mtune=native \"\n",
            "I LDFLAGS:    \n",
            "I CC:        cc (Ubuntu 11.4.0-1ubuntu1~22.04) 11.4.0\n",
            "I CXX:       g++ (Ubuntu 11.4.0-1ubuntu1~22.04) 11.4.0\n",
            "\n",
            "cc  -I. -Icommon -D_XOPEN_SOURCE=600 -D_GNU_SOURCE -DNDEBUG  -std=c11   -fPIC -O3 -Wall -Wextra -Wpedantic -Wcast-qual -Wno-unused-function -Wshadow -Wstrict-prototypes -Wpointer-arith -Wmissing-prototypes -Werror=implicit-int -Werror=implicit-function-declaration -Wdouble-promotion -pthread -march=native -mtune=native    -c ggml.c -o ggml.o\n",
            "g++ -I. -Icommon -D_XOPEN_SOURCE=600 -D_GNU_SOURCE -DNDEBUG  -std=c++11 -fPIC -O3 -Wall -Wextra -Wpedantic -Wcast-qual -Wno-unused-function -Wmissing-declarations -Wmissing-noreturn -pthread  -Wno-array-bounds -Wno-format-truncation -Wextra-semi -march=native -mtune=native  -c llama.cpp -o llama.o\n",
            "g++ -I. -Icommon -D_XOPEN_SOURCE=600 -D_GNU_SOURCE -DNDEBUG  -std=c++11 -fPIC -O3 -Wall -Wextra -Wpedantic -Wcast-qual -Wno-unused-function -Wmissing-declarations -Wmissing-noreturn -pthread  -Wno-array-bounds -Wno-format-truncation -Wextra-semi -march=native -mtune=native  -c common/common.cpp -o common.o\n",
            "g++ -I. -Icommon -D_XOPEN_SOURCE=600 -D_GNU_SOURCE -DNDEBUG  -std=c++11 -fPIC -O3 -Wall -Wextra -Wpedantic -Wcast-qual -Wno-unused-function -Wmissing-declarations -Wmissing-noreturn -pthread  -Wno-array-bounds -Wno-format-truncation -Wextra-semi -march=native -mtune=native  -c common/sampling.cpp -o sampling.o\n",
            "g++ -I. -Icommon -D_XOPEN_SOURCE=600 -D_GNU_SOURCE -DNDEBUG  -std=c++11 -fPIC -O3 -Wall -Wextra -Wpedantic -Wcast-qual -Wno-unused-function -Wmissing-declarations -Wmissing-noreturn -pthread  -Wno-array-bounds -Wno-format-truncation -Wextra-semi -march=native -mtune=native  -c common/grammar-parser.cpp -o grammar-parser.o\n",
            "g++ -I. -Icommon -D_XOPEN_SOURCE=600 -D_GNU_SOURCE -DNDEBUG  -std=c++11 -fPIC -O3 -Wall -Wextra -Wpedantic -Wcast-qual -Wno-unused-function -Wmissing-declarations -Wmissing-noreturn -pthread  -Wno-array-bounds -Wno-format-truncation -Wextra-semi -march=native -mtune=native  -c common/console.cpp -o console.o\n",
            "cc  -I. -Icommon -D_XOPEN_SOURCE=600 -D_GNU_SOURCE -DNDEBUG  -std=c11   -fPIC -O3 -Wall -Wextra -Wpedantic -Wcast-qual -Wno-unused-function -Wshadow -Wstrict-prototypes -Wpointer-arith -Wmissing-prototypes -Werror=implicit-int -Werror=implicit-function-declaration -Wdouble-promotion -pthread -march=native -mtune=native    -c ggml-alloc.c -o ggml-alloc.o\n",
            "cc  -I. -Icommon -D_XOPEN_SOURCE=600 -D_GNU_SOURCE -DNDEBUG  -std=c11   -fPIC -O3 -Wall -Wextra -Wpedantic -Wcast-qual -Wno-unused-function -Wshadow -Wstrict-prototypes -Wpointer-arith -Wmissing-prototypes -Werror=implicit-int -Werror=implicit-function-declaration -Wdouble-promotion -pthread -march=native -mtune=native    -c ggml-backend.c -o ggml-backend.o\n",
            "cc -I. -Icommon -D_XOPEN_SOURCE=600 -D_GNU_SOURCE -DNDEBUG  -std=c11   -fPIC -O3 -Wall -Wextra -Wpedantic -Wcast-qual -Wno-unused-function -Wshadow -Wstrict-prototypes -Wpointer-arith -Wmissing-prototypes -Werror=implicit-int -Werror=implicit-function-declaration -Wdouble-promotion -pthread -march=native -mtune=native     -c ggml-quants.c -o ggml-quants.o\n",
            "g++ -I. -Icommon -D_XOPEN_SOURCE=600 -D_GNU_SOURCE -DNDEBUG  -std=c++11 -fPIC -O3 -Wall -Wextra -Wpedantic -Wcast-qual -Wno-unused-function -Wmissing-declarations -Wmissing-noreturn -pthread  -Wno-array-bounds -Wno-format-truncation -Wextra-semi -march=native -mtune=native  -c common/train.cpp -o train.o\n",
            "cc -I. -Icommon -D_XOPEN_SOURCE=600 -D_GNU_SOURCE -DNDEBUG  -std=c11   -fPIC -O3 -Wall -Wextra -Wpedantic -Wcast-qual -Wno-unused-function -Wshadow -Wstrict-prototypes -Wpointer-arith -Wmissing-prototypes -Werror=implicit-int -Werror=implicit-function-declaration -Wdouble-promotion -pthread -march=native -mtune=native  -c tests/test-c.c -o tests/test-c.o\n",
            "g++ -I. -Icommon -D_XOPEN_SOURCE=600 -D_GNU_SOURCE -DNDEBUG  -std=c++11 -fPIC -O3 -Wall -Wextra -Wpedantic -Wcast-qual -Wno-unused-function -Wmissing-declarations -Wmissing-noreturn -pthread  -Wno-array-bounds -Wno-format-truncation -Wextra-semi -march=native -mtune=native  -c common/build-info.cpp -o build-info.o\n",
            "g++ -I. -Icommon -D_XOPEN_SOURCE=600 -D_GNU_SOURCE -DNDEBUG  -std=c++11 -fPIC -O3 -Wall -Wextra -Wpedantic -Wcast-qual -Wno-unused-function -Wmissing-declarations -Wmissing-noreturn -pthread  -Wno-array-bounds -Wno-format-truncation -Wextra-semi -march=native -mtune=native  pocs/vdot/vdot.cpp ggml.o ggml-alloc.o ggml-backend.o ggml-quants.o -o vdot  \n",
            "g++ -I. -Icommon -D_XOPEN_SOURCE=600 -D_GNU_SOURCE -DNDEBUG  -std=c++11 -fPIC -O3 -Wall -Wextra -Wpedantic -Wcast-qual -Wno-unused-function -Wmissing-declarations -Wmissing-noreturn -pthread  -Wno-array-bounds -Wno-format-truncation -Wextra-semi -march=native -mtune=native  pocs/vdot/q8dot.cpp ggml.o ggml-alloc.o ggml-backend.o ggml-quants.o -o q8dot  \n",
            "g++ -I. -Icommon -D_XOPEN_SOURCE=600 -D_GNU_SOURCE -DNDEBUG  -std=c++11 -fPIC -O3 -Wall -Wextra -Wpedantic -Wcast-qual -Wno-unused-function -Wmissing-declarations -Wmissing-noreturn -pthread  -Wno-array-bounds -Wno-format-truncation -Wextra-semi -march=native -mtune=native  examples/benchmark/benchmark-matmult.cpp build-info.o ggml.o ggml-alloc.o ggml-backend.o ggml-quants.o -o benchmark-matmult  \n",
            "g++ -I. -Icommon -D_XOPEN_SOURCE=600 -D_GNU_SOURCE -DNDEBUG  -std=c++11 -fPIC -O3 -Wall -Wextra -Wpedantic -Wcast-qual -Wno-unused-function -Wmissing-declarations -Wmissing-noreturn -pthread  -Wno-array-bounds -Wno-format-truncation -Wextra-semi -march=native -mtune=native  examples/main/main.cpp ggml.o llama.o common.o sampling.o grammar-parser.o build-info.o console.o ggml-alloc.o ggml-backend.o ggml-quants.o -o main  \n",
            "g++ -I. -Icommon -D_XOPEN_SOURCE=600 -D_GNU_SOURCE -DNDEBUG  -std=c++11 -fPIC -O3 -Wall -Wextra -Wpedantic -Wcast-qual -Wno-unused-function -Wmissing-declarations -Wmissing-noreturn -pthread  -Wno-array-bounds -Wno-format-truncation -Wextra-semi -march=native -mtune=native  examples/quantize/quantize.cpp build-info.o ggml.o llama.o ggml-alloc.o ggml-backend.o ggml-quants.o -o quantize  \n",
            "g++ -I. -Icommon -D_XOPEN_SOURCE=600 -D_GNU_SOURCE -DNDEBUG  -std=c++11 -fPIC -O3 -Wall -Wextra -Wpedantic -Wcast-qual -Wno-unused-function -Wmissing-declarations -Wmissing-noreturn -pthread  -Wno-array-bounds -Wno-format-truncation -Wextra-semi -march=native -mtune=native  examples/quantize-stats/quantize-stats.cpp build-info.o ggml.o llama.o ggml-alloc.o ggml-backend.o ggml-quants.o -o quantize-stats  \n",
            "g++ -I. -Icommon -D_XOPEN_SOURCE=600 -D_GNU_SOURCE -DNDEBUG  -std=c++11 -fPIC -O3 -Wall -Wextra -Wpedantic -Wcast-qual -Wno-unused-function -Wmissing-declarations -Wmissing-noreturn -pthread  -Wno-array-bounds -Wno-format-truncation -Wextra-semi -march=native -mtune=native  examples/perplexity/perplexity.cpp ggml.o llama.o common.o sampling.o grammar-parser.o build-info.o ggml-alloc.o ggml-backend.o ggml-quants.o -o perplexity  \n",
            "g++ -I. -Icommon -D_XOPEN_SOURCE=600 -D_GNU_SOURCE -DNDEBUG  -std=c++11 -fPIC -O3 -Wall -Wextra -Wpedantic -Wcast-qual -Wno-unused-function -Wmissing-declarations -Wmissing-noreturn -pthread  -Wno-array-bounds -Wno-format-truncation -Wextra-semi -march=native -mtune=native  examples/embedding/embedding.cpp ggml.o llama.o common.o sampling.o grammar-parser.o build-info.o ggml-alloc.o ggml-backend.o ggml-quants.o -o embedding  \n",
            "g++ -I. -Icommon -D_XOPEN_SOURCE=600 -D_GNU_SOURCE -DNDEBUG  -std=c++11 -fPIC -O3 -Wall -Wextra -Wpedantic -Wcast-qual -Wno-unused-function -Wmissing-declarations -Wmissing-noreturn -pthread  -Wno-array-bounds -Wno-format-truncation -Wextra-semi -march=native -mtune=native  examples/train-text-from-scratch/train-text-from-scratch.cpp ggml.o llama.o common.o sampling.o grammar-parser.o build-info.o train.o ggml-alloc.o ggml-backend.o ggml-quants.o -o train-text-from-scratch  \n",
            "g++ -I. -Icommon -D_XOPEN_SOURCE=600 -D_GNU_SOURCE -DNDEBUG  -std=c++11 -fPIC -O3 -Wall -Wextra -Wpedantic -Wcast-qual -Wno-unused-function -Wmissing-declarations -Wmissing-noreturn -pthread  -Wno-array-bounds -Wno-format-truncation -Wextra-semi -march=native -mtune=native  examples/convert-llama2c-to-ggml/convert-llama2c-to-ggml.cpp ggml.o llama.o ggml-alloc.o ggml-backend.o ggml-quants.o -o convert-llama2c-to-ggml  \n",
            "g++ -I. -Icommon -D_XOPEN_SOURCE=600 -D_GNU_SOURCE -DNDEBUG  -std=c++11 -fPIC -O3 -Wall -Wextra -Wpedantic -Wcast-qual -Wno-unused-function -Wmissing-declarations -Wmissing-noreturn -pthread  -Wno-array-bounds -Wno-format-truncation -Wextra-semi -march=native -mtune=native  examples/simple/simple.cpp ggml.o llama.o common.o sampling.o grammar-parser.o build-info.o ggml-alloc.o ggml-backend.o ggml-quants.o -o simple  \n",
            "g++ -I. -Icommon -D_XOPEN_SOURCE=600 -D_GNU_SOURCE -DNDEBUG  -std=c++11 -fPIC -O3 -Wall -Wextra -Wpedantic -Wcast-qual -Wno-unused-function -Wmissing-declarations -Wmissing-noreturn -pthread  -Wno-array-bounds -Wno-format-truncation -Wextra-semi -march=native -mtune=native  examples/batched/batched.cpp ggml.o llama.o common.o sampling.o grammar-parser.o build-info.o ggml-alloc.o ggml-backend.o ggml-quants.o -o batched  \n",
            "g++ -I. -Icommon -D_XOPEN_SOURCE=600 -D_GNU_SOURCE -DNDEBUG  -std=c++11 -fPIC -O3 -Wall -Wextra -Wpedantic -Wcast-qual -Wno-unused-function -Wmissing-declarations -Wmissing-noreturn -pthread  -Wno-array-bounds -Wno-format-truncation -Wextra-semi -march=native -mtune=native  examples/batched-bench/batched-bench.cpp build-info.o ggml.o llama.o common.o ggml-alloc.o ggml-backend.o ggml-quants.o -o batched-bench  \n",
            "g++ -I. -Icommon -D_XOPEN_SOURCE=600 -D_GNU_SOURCE -DNDEBUG  -std=c++11 -fPIC -O3 -Wall -Wextra -Wpedantic -Wcast-qual -Wno-unused-function -Wmissing-declarations -Wmissing-noreturn -pthread  -Wno-array-bounds -Wno-format-truncation -Wextra-semi -march=native -mtune=native  examples/save-load-state/save-load-state.cpp ggml.o llama.o common.o sampling.o grammar-parser.o build-info.o ggml-alloc.o ggml-backend.o ggml-quants.o -o save-load-state  \n",
            "g++ -I. -Icommon -D_XOPEN_SOURCE=600 -D_GNU_SOURCE -DNDEBUG  -std=c++11 -fPIC -O3 -Wall -Wextra -Wpedantic -Wcast-qual -Wno-unused-function -Wmissing-declarations -Wmissing-noreturn -pthread  -Wno-array-bounds -Wno-format-truncation -Wextra-semi -march=native -mtune=native  -Iexamples/server examples/server/server.cpp examples/llava/clip.cpp ggml.o llama.o common.o sampling.o grammar-parser.o build-info.o ggml-alloc.o ggml-backend.o ggml-quants.o -o server    -Wno-cast-qual\n",
            "g++ -I. -Icommon -D_XOPEN_SOURCE=600 -D_GNU_SOURCE -DNDEBUG  -std=c++11 -fPIC -O3 -Wall -Wextra -Wpedantic -Wcast-qual -Wno-unused-function -Wmissing-declarations -Wmissing-noreturn -pthread  -Wno-array-bounds -Wno-format-truncation -Wextra-semi -march=native -mtune=native  examples/gguf/gguf.cpp ggml.o llama.o ggml-alloc.o ggml-backend.o ggml-quants.o -o gguf  \n",
            "g++ -I. -Icommon -D_XOPEN_SOURCE=600 -D_GNU_SOURCE -DNDEBUG  -std=c++11 -fPIC -O3 -Wall -Wextra -Wpedantic -Wcast-qual -Wno-unused-function -Wmissing-declarations -Wmissing-noreturn -pthread  -Wno-array-bounds -Wno-format-truncation -Wextra-semi -march=native -mtune=native  examples/llama-bench/llama-bench.cpp ggml.o llama.o common.o sampling.o grammar-parser.o build-info.o ggml-alloc.o ggml-backend.o ggml-quants.o -o llama-bench  \n",
            "g++ -I. -Icommon -D_XOPEN_SOURCE=600 -D_GNU_SOURCE -DNDEBUG  -std=c++11 -fPIC -O3 -Wall -Wextra -Wpedantic -Wcast-qual -Wno-unused-function -Wmissing-declarations -Wmissing-noreturn -pthread  -Wno-array-bounds -Wno-format-truncation -Wextra-semi -march=native -mtune=native  -static -fPIC -c examples/llava/llava.cpp -o libllava.a -Wno-cast-qual\n",
            "g++ -I. -Icommon -D_XOPEN_SOURCE=600 -D_GNU_SOURCE -DNDEBUG  -std=c++11 -fPIC -O3 -Wall -Wextra -Wpedantic -Wcast-qual -Wno-unused-function -Wmissing-declarations -Wmissing-noreturn -pthread  -Wno-array-bounds -Wno-format-truncation -Wextra-semi -march=native -mtune=native  examples/llava/llava-cli.cpp examples/llava/clip.cpp examples/llava/llava.cpp ggml.o llama.o common.o sampling.o grammar-parser.o build-info.o ggml-alloc.o ggml-backend.o ggml-quants.o -o llava-cli   -Wno-cast-qual\n",
            "g++ -I. -Icommon -D_XOPEN_SOURCE=600 -D_GNU_SOURCE -DNDEBUG  -std=c++11 -fPIC -O3 -Wall -Wextra -Wpedantic -Wcast-qual -Wno-unused-function -Wmissing-declarations -Wmissing-noreturn -pthread  -Wno-array-bounds -Wno-format-truncation -Wextra-semi -march=native -mtune=native  examples/baby-llama/baby-llama.cpp ggml.o llama.o common.o sampling.o grammar-parser.o build-info.o train.o ggml-alloc.o ggml-backend.o ggml-quants.o -o baby-llama  \n",
            "g++ -I. -Icommon -D_XOPEN_SOURCE=600 -D_GNU_SOURCE -DNDEBUG  -std=c++11 -fPIC -O3 -Wall -Wextra -Wpedantic -Wcast-qual -Wno-unused-function -Wmissing-declarations -Wmissing-noreturn -pthread  -Wno-array-bounds -Wno-format-truncation -Wextra-semi -march=native -mtune=native  examples/beam-search/beam-search.cpp ggml.o llama.o common.o sampling.o grammar-parser.o build-info.o ggml-alloc.o ggml-backend.o ggml-quants.o -o beam-search  \n",
            "g++ -I. -Icommon -D_XOPEN_SOURCE=600 -D_GNU_SOURCE -DNDEBUG  -std=c++11 -fPIC -O3 -Wall -Wextra -Wpedantic -Wcast-qual -Wno-unused-function -Wmissing-declarations -Wmissing-noreturn -pthread  -Wno-array-bounds -Wno-format-truncation -Wextra-semi -march=native -mtune=native  examples/speculative/speculative.cpp ggml.o llama.o common.o sampling.o grammar-parser.o build-info.o ggml-alloc.o ggml-backend.o ggml-quants.o -o speculative  \n",
            "g++ -I. -Icommon -D_XOPEN_SOURCE=600 -D_GNU_SOURCE -DNDEBUG  -std=c++11 -fPIC -O3 -Wall -Wextra -Wpedantic -Wcast-qual -Wno-unused-function -Wmissing-declarations -Wmissing-noreturn -pthread  -Wno-array-bounds -Wno-format-truncation -Wextra-semi -march=native -mtune=native  examples/infill/infill.cpp ggml.o llama.o common.o sampling.o grammar-parser.o build-info.o console.o ggml-alloc.o ggml-backend.o ggml-quants.o -o infill  \n",
            "g++ -I. -Icommon -D_XOPEN_SOURCE=600 -D_GNU_SOURCE -DNDEBUG  -std=c++11 -fPIC -O3 -Wall -Wextra -Wpedantic -Wcast-qual -Wno-unused-function -Wmissing-declarations -Wmissing-noreturn -pthread  -Wno-array-bounds -Wno-format-truncation -Wextra-semi -march=native -mtune=native  examples/parallel/parallel.cpp ggml.o llama.o common.o sampling.o grammar-parser.o build-info.o ggml-alloc.o ggml-backend.o ggml-quants.o -o parallel  \n",
            "g++ -I. -Icommon -D_XOPEN_SOURCE=600 -D_GNU_SOURCE -DNDEBUG  -std=c++11 -fPIC -O3 -Wall -Wextra -Wpedantic -Wcast-qual -Wno-unused-function -Wmissing-declarations -Wmissing-noreturn -pthread  -Wno-array-bounds -Wno-format-truncation -Wextra-semi -march=native -mtune=native  examples/finetune/finetune.cpp ggml.o llama.o common.o sampling.o grammar-parser.o build-info.o train.o ggml-alloc.o ggml-backend.o ggml-quants.o -o finetune  \n",
            "g++ -I. -Icommon -D_XOPEN_SOURCE=600 -D_GNU_SOURCE -DNDEBUG  -std=c++11 -fPIC -O3 -Wall -Wextra -Wpedantic -Wcast-qual -Wno-unused-function -Wmissing-declarations -Wmissing-noreturn -pthread  -Wno-array-bounds -Wno-format-truncation -Wextra-semi -march=native -mtune=native  examples/export-lora/export-lora.cpp ggml.o llama.o common.o sampling.o grammar-parser.o build-info.o ggml-alloc.o ggml-backend.o ggml-quants.o -o export-lora  \n",
            "\n",
            "====  Run ./main -h for help.  ====\n",
            "\n"
          ]
        },
        {
          "output_type": "stream",
          "name": "stderr",
          "text": [
            "Cloning into 'llama.cpp'...\n",
            "examples/llava/llava.cpp: In function ‘bool load_file_to_bytes(const char*, unsigned char**, long int*)’:\n",
            "examples/llava/llava.cpp:130:10: warning: ignoring return value of ‘size_t fread(void*, size_t, size_t, FILE*)’ declared with attribute ‘warn_unused_result’ [-Wunused-result]\n",
            "  130 |     fread(buffer, 1, fileSize, file); // Read the file into the buffer\n",
            "      |     ~~~~~^~~~~~~~~~~~~~~~~~~~~~~~~~~\n",
            "examples/llava/llava.cpp: In function ‘bool load_file_to_bytes(const char*, unsigned char**, long int*)’:\n",
            "examples/llava/llava.cpp:130:10: warning: ignoring return value of ‘size_t fread(void*, size_t, size_t, FILE*)’ declared with attribute ‘warn_unused_result’ [-Wunused-result]\n",
            "  130 |     fread(buffer, 1, fileSize, file); // Read the file into the buffer\n",
            "      |     ~~~~~^~~~~~~~~~~~~~~~~~~~~~~~~~~\n",
            "In copy constructor ‘task_result::task_result(const task_result&)’,\n",
            "    inlined from ‘void __gnu_cxx::new_allocator<_Tp>::construct(_Up*, _Args&& ...) [with _Up = task_result; _Args = {const task_result&}; _Tp = task_result]’ at /usr/include/c++/11/ext/new_allocator.h:162:4,\n",
            "    inlined from ‘static void std::allocator_traits<std::allocator<_Tp1> >::construct(std::allocator_traits<std::allocator<_Tp1> >::allocator_type&, _Up*, _Args&& ...) [with _Up = task_result; _Args = {const task_result&}; _Tp = task_result]’ at /usr/include/c++/11/bits/alloc_traits.h:516:17,\n",
            "    inlined from ‘void std::vector<_Tp, _Alloc>::push_back(const value_type&) [with _Tp = task_result; _Alloc = std::allocator<task_result>]’ at /usr/include/c++/11/bits/stl_vector.h:1192:30,\n",
            "    inlined from ‘void llama_server_context::send_error(int, std::string)’ at examples/server/server.cpp:1097:32:\n",
            "examples/server/server.cpp:154:8: warning: ‘res.task_result::stop’ may be used uninitialized [-Wmaybe-uninitialized]\n",
            "  154 | struct task_result {\n",
            "      |        ^~~~~~~~~~~\n",
            "examples/server/server.cpp: In member function ‘void llama_server_context::send_error(int, std::string)’:\n",
            "examples/server/server.cpp:1093:21: note: ‘res’ declared here\n",
            " 1093 |         task_result res;\n",
            "      |                     ^~~\n",
            "In copy constructor ‘task_server::task_server(const task_server&)’,\n",
            "    inlined from ‘void __gnu_cxx::new_allocator<_Tp>::construct(_Up*, _Args&& ...) [with _Up = task_server; _Args = {const task_server&}; _Tp = task_server]’ at /usr/include/c++/11/ext/new_allocator.h:162:4,\n",
            "    inlined from ‘static void std::allocator_traits<std::allocator<_Tp1> >::construct(std::allocator_traits<std::allocator<_Tp1> >::allocator_type&, _Up*, _Args&& ...) [with _Up = task_server; _Args = {const task_server&}; _Tp = task_server]’ at /usr/include/c++/11/bits/alloc_traits.h:516:17,\n",
            "    inlined from ‘void std::vector<_Tp, _Alloc>::push_back(const value_type&) [with _Tp = task_server; _Alloc = std::allocator<task_server>]’ at /usr/include/c++/11/bits/stl_vector.h:1192:30,\n",
            "    inlined from ‘int llama_server_context::request_completion(json, bool, bool)’ at examples/server/server.cpp:1259:30,\n",
            "    inlined from ‘main(int, char**)::<lambda(const httplib::Request&, httplib::Response&)>’ at examples/server/server.cpp:2333:61:\n",
            "examples/server/server.cpp:145:8: warning: ‘task.task_server::target_id’ may be used uninitialized [-Wmaybe-uninitialized]\n",
            "  145 | struct task_server {\n",
            "      |        ^~~~~~~~~~~\n",
            "examples/server/server.cpp: In lambda function:\n",
            "examples/server/server.cpp:1253:21: note: ‘task’ declared here\n",
            " 1253 |         task_server task;\n",
            "      |                     ^~~~\n",
            "In copy constructor ‘task_server::task_server(const task_server&)’,\n",
            "    inlined from ‘void __gnu_cxx::new_allocator<_Tp>::construct(_Up*, _Args&& ...) [with _Up = task_server; _Args = {const task_server&}; _Tp = task_server]’ at /usr/include/c++/11/ext/new_allocator.h:162:4,\n",
            "    inlined from ‘static void std::allocator_traits<std::allocator<_Tp1> >::construct(std::allocator_traits<std::allocator<_Tp1> >::allocator_type&, _Up*, _Args&& ...) [with _Up = task_server; _Args = {const task_server&}; _Tp = task_server]’ at /usr/include/c++/11/bits/alloc_traits.h:516:17,\n",
            "    inlined from ‘void std::vector<_Tp, _Alloc>::push_back(const value_type&) [with _Tp = task_server; _Alloc = std::allocator<task_server>]’ at /usr/include/c++/11/bits/stl_vector.h:1192:30,\n",
            "    inlined from ‘int llama_server_context::request_completion(json, bool, bool)’ at examples/server/server.cpp:1259:30,\n",
            "    inlined from ‘main(int, char**)::<lambda(const httplib::Request&, httplib::Response&)>’ at examples/server/server.cpp:2388:61:\n",
            "examples/server/server.cpp:145:8: warning: ‘task.task_server::target_id’ may be used uninitialized [-Wmaybe-uninitialized]\n",
            "  145 | struct task_server {\n",
            "      |        ^~~~~~~~~~~\n",
            "examples/server/server.cpp: In lambda function:\n",
            "examples/server/server.cpp:1253:21: note: ‘task’ declared here\n",
            " 1253 |         task_server task;\n",
            "      |                     ^~~~\n",
            "In copy constructor ‘task_server::task_server(const task_server&)’,\n",
            "    inlined from ‘void __gnu_cxx::new_allocator<_Tp>::construct(_Up*, _Args&& ...) [with _Up = task_server; _Args = {const task_server&}; _Tp = task_server]’ at /usr/include/c++/11/ext/new_allocator.h:162:4,\n",
            "    inlined from ‘static void std::allocator_traits<std::allocator<_Tp1> >::construct(std::allocator_traits<std::allocator<_Tp1> >::allocator_type&, _Up*, _Args&& ...) [with _Up = task_server; _Args = {const task_server&}; _Tp = task_server]’ at /usr/include/c++/11/bits/alloc_traits.h:516:17,\n",
            "    inlined from ‘void std::vector<_Tp, _Alloc>::push_back(const value_type&) [with _Tp = task_server; _Alloc = std::allocator<task_server>]’ at /usr/include/c++/11/bits/stl_vector.h:1192:30,\n",
            "    inlined from ‘int llama_server_context::request_completion(json, bool, bool)’ at examples/server/server.cpp:1259:30,\n",
            "    inlined from ‘main(int, char**)::<lambda(const httplib::Request&, httplib::Response&)>’ at examples/server/server.cpp:2492:61:\n",
            "examples/server/server.cpp:145:8: warning: ‘task.task_server::target_id’ may be used uninitialized [-Wmaybe-uninitialized]\n",
            "  145 | struct task_server {\n",
            "      |        ^~~~~~~~~~~\n",
            "examples/server/server.cpp: In lambda function:\n",
            "examples/server/server.cpp:1253:21: note: ‘task’ declared here\n",
            " 1253 |         task_server task;\n",
            "      |                     ^~~~\n"
          ]
        }
      ],
      "source": [
        "%%bash\n",
        "# setup llama.cpp\n",
        "git clone https://github.com/ggerganov/llama.cpp.git\n",
        "cd llama.cpp\n",
        "make -j"
      ]
    },
    {
      "cell_type": "markdown",
      "source": [
        "## webbigdata-ALMA-7B-Ja-V2-q2_K.gguf"
      ],
      "metadata": {
        "id": "0stV04t7MQm0"
      }
    },
    {
      "cell_type": "code",
      "source": [
        "!cd llama.cpp && wget https://huggingface.co/mmnga/webbigdata-ALMA-7B-Ja-V2-gguf/resolve/main/webbigdata-ALMA-7B-Ja-V2-q2_K.gguf 2>>q2_k.log"
      ],
      "metadata": {
        "id": "o6LdO72RMQyS"
      },
      "execution_count": null,
      "outputs": []
    },
    {
      "cell_type": "code",
      "source": [
        "!cd llama.cpp && ./main -m 'webbigdata-ALMA-7B-Ja-V2-q2_K.gguf' -n 128 -p \"$TRANSLATE_TEMPLATE_Ja\" 2>>q2_k.log"
      ],
      "metadata": {
        "colab": {
          "base_uri": "https://localhost:8080/"
        },
        "id": "ayZUdGQXMaZm",
        "outputId": "a1f3dc2f-ab34-40ae-acac-177c7aa1986b"
      },
      "execution_count": null,
      "outputs": [
        {
          "output_type": "stream",
          "name": "stdout",
          "text": [
            "Translate this from Japanese to English:\n",
            "Japanese: ずんだもんは東北に住む活発でかわいい女の子です。あなた「きみの名前は？」ずんだもん「ボクの名前はずんだもんなのだ。」\n",
            "English:Zundamom is a lively girl who lives in Tohoku. Zundamom \"What's your name?\" You \"My name is Zundamom.\""
          ]
        }
      ]
    },
    {
      "cell_type": "code",
      "source": [
        "!cd llama.cpp && ./main -m 'webbigdata-ALMA-7B-Ja-V2-q2_K.gguf' -n 128 -p \"$TRANSLATE_TEMPLATE_En\" 2>>q2_k.log"
      ],
      "metadata": {
        "colab": {
          "base_uri": "https://localhost:8080/"
        },
        "id": "wZva70fHMdO7",
        "outputId": "5b29cee4-7887-450f-d6d6-948a13fe468f"
      },
      "execution_count": null,
      "outputs": [
        {
          "output_type": "stream",
          "name": "stdout",
          "text": [
            "Translate this from English to Japanese:\n",
            "English:The book named A Tale of Two Cities was written by Charles. Mary read the book.\n",
            "Japanese:本書『二つの都市』をチャールズが作りました。マリはその本を読んだ。"
          ]
        }
      ]
    },
    {
      "cell_type": "markdown",
      "source": [
        "## webbigdata-ALMA-7B-Ja-V2-q3_K_S.gguf"
      ],
      "metadata": {
        "id": "yAS9RSKmNCLz"
      }
    },
    {
      "cell_type": "code",
      "source": [
        "!cd llama.cpp && wget https://huggingface.co/mmnga/webbigdata-ALMA-7B-Ja-V2-gguf/resolve/main/webbigdata-ALMA-7B-Ja-V2-q3_K_S.gguf 2>>q3_k_s.log"
      ],
      "metadata": {
        "id": "JYH3O-yCNCUq"
      },
      "execution_count": null,
      "outputs": []
    },
    {
      "cell_type": "code",
      "source": [
        "!cd llama.cpp && ./main -m 'webbigdata-ALMA-7B-Ja-V2-q3_K_S.gguf' -n 128 -p \"$TRANSLATE_TEMPLATE_Ja\" 2>>q3_k_s.log"
      ],
      "metadata": {
        "colab": {
          "base_uri": "https://localhost:8080/"
        },
        "id": "xhyBRwc7O2Rp",
        "outputId": "529c81b5-1036-414b-9abb-3d8fe56385de"
      },
      "execution_count": null,
      "outputs": [
        {
          "output_type": "stream",
          "name": "stdout",
          "text": [
            "Translate this from Japanese to English:\n",
            "Japanese: ずんだもんは東北に住む活発でかわいい女の子です。あなた「きみの名前は？」ずんだもん「ボクの名前はずんだもんなのだ。」\n",
            "English:Zundamon is an energetic and cute girl who lives in Tohoku. When you say your name, Zundamon \"My name is Zundamon.\""
          ]
        }
      ]
    },
    {
      "cell_type": "code",
      "source": [
        "!cd llama.cpp && ./main -m 'webbigdata-ALMA-7B-Ja-V2-q3_K_S.gguf' -n 128 -p \"$TRANSLATE_TEMPLATE_En\"  2>>q3_k_s.log"
      ],
      "metadata": {
        "colab": {
          "base_uri": "https://localhost:8080/"
        },
        "id": "DFpdiTaFO2Yz",
        "outputId": "4b569ba4-725e-4cbe-b6dd-5ee00275ed4f"
      },
      "execution_count": null,
      "outputs": [
        {
          "output_type": "stream",
          "name": "stdout",
          "text": [
            "Translate this from English to Japanese:\n",
            "English:The book named A Tale of Two Cities was written by Charles. Mary read the book.\n",
            "Japanese:「二都市の物語」という本は、チャールズが書いたもの。マリーは本を読んだ。"
          ]
        }
      ]
    },
    {
      "cell_type": "markdown",
      "source": [
        "## webbigdata-ALMA-7B-Ja-V2-q3_K_M.gguf"
      ],
      "metadata": {
        "id": "5XSqk8pMPITi"
      }
    },
    {
      "cell_type": "code",
      "source": [
        "!cd llama.cpp && wget https://huggingface.co/mmnga/webbigdata-ALMA-7B-Ja-V2-gguf/resolve/main/webbigdata-ALMA-7B-Ja-V2-q3_K_M.gguf 2>>q3_k_m.log"
      ],
      "metadata": {
        "id": "_xPB3S-TPHde"
      },
      "execution_count": null,
      "outputs": []
    },
    {
      "cell_type": "code",
      "source": [
        "!cd llama.cpp && ./main -m 'webbigdata-ALMA-7B-Ja-V2-q3_K_M.gguf' -n 128 -p \"$TRANSLATE_TEMPLATE_Ja\" 2>>q3_k_m.log"
      ],
      "metadata": {
        "colab": {
          "base_uri": "https://localhost:8080/"
        },
        "id": "Ls1oWCQwPJBf",
        "outputId": "f13037f5-db8a-4a01-e7ee-1194683cbd78"
      },
      "execution_count": null,
      "outputs": [
        {
          "output_type": "stream",
          "name": "stdout",
          "text": [
            "Translate this from Japanese to English:\n",
            "Japanese: ずんだもんは東北に住む活発でかわいい女の子です。あなた「きみの名前は？」ずんだもん「ボクの名前はずんだもんなのだ。」\n",
            "English:Zunda Man is a lively and cute girl living in Tohoku. \"What's your name?\" you ask. She replies, \"My name is Zunda-Man.\""
          ]
        }
      ]
    },
    {
      "cell_type": "code",
      "source": [
        "!cd llama.cpp && ./main -m 'webbigdata-ALMA-7B-Ja-V2-q3_K_M.gguf' -n 128 -p \"$TRANSLATE_TEMPLATE_En\"  2>>q3_k_s.log"
      ],
      "metadata": {
        "colab": {
          "base_uri": "https://localhost:8080/"
        },
        "id": "fbs9N-D1PJJg",
        "outputId": "d76c7f90-1d73-4eb4-e531-d93deb428323"
      },
      "execution_count": null,
      "outputs": [
        {
          "output_type": "stream",
          "name": "stdout",
          "text": [
            "Translate this from English to Japanese:\n",
            "English:The book named A Tale of Two Cities was written by Charles. Mary read the book.\n",
            "Japanese:『二都市の物語』という本が出版された。その本はチャールズが書いている。マリーは本を読んでいる"
          ]
        }
      ]
    },
    {
      "cell_type": "markdown",
      "source": [
        "## webbigdata-ALMA-7B-Ja-V2-q3_K_L.gguf"
      ],
      "metadata": {
        "id": "G6zprD6TP88-"
      }
    },
    {
      "cell_type": "code",
      "source": [
        "!cd llama.cpp && wget https://huggingface.co/mmnga/webbigdata-ALMA-7B-Ja-V2-gguf/resolve/main/webbigdata-ALMA-7B-Ja-V2-q3_K_L.gguf 2>>q3_k_l.log"
      ],
      "metadata": {
        "id": "q2zTvOzLP9JN"
      },
      "execution_count": null,
      "outputs": []
    },
    {
      "cell_type": "code",
      "source": [
        "!cd llama.cpp && ./main -m 'webbigdata-ALMA-7B-Ja-V2-q3_K_L.gguf' -n 128 -p \"$TRANSLATE_TEMPLATE_Ja\" 2>>q3_k_l.log"
      ],
      "metadata": {
        "colab": {
          "base_uri": "https://localhost:8080/"
        },
        "id": "7RKJPdneP9SF",
        "outputId": "532532be-6410-4b01-f5f0-d56cba9765a9"
      },
      "execution_count": null,
      "outputs": [
        {
          "output_type": "stream",
          "name": "stdout",
          "text": [
            "Translate this from Japanese to English:\n",
            "Japanese: ずんだもんは東北に住む活発でかわいい女の子です。あなた「きみの名前は？」ずんだもん「ボクの名前はずんだもんなのだ。」\n",
            "English:Zundamon is an active and cute girl living in Tohoku. You: \"What's your name?\" Zundamon: \"My name is ... Zundamon.\""
          ]
        }
      ]
    },
    {
      "cell_type": "code",
      "source": [
        "!cd llama.cpp && ./main -m 'webbigdata-ALMA-7B-Ja-V2-q3_K_L.gguf' -n 128 -p \"$TRANSLATE_TEMPLATE_En\" 2>>q3_k_l.log"
      ],
      "metadata": {
        "colab": {
          "base_uri": "https://localhost:8080/"
        },
        "id": "INk_APk6P9aK",
        "outputId": "536c5f21-420f-4fcc-8c05-5f46818e37c5"
      },
      "execution_count": null,
      "outputs": [
        {
          "output_type": "stream",
          "name": "stdout",
          "text": [
            "Translate this from English to Japanese:\n",
            "English:The book named A Tale of Two Cities was written by Charles. Mary read the book.\n",
            "Japanese:誰かに残したいと願って、手を伸ばして抱きしめた。"
          ]
        }
      ]
    },
    {
      "cell_type": "markdown",
      "source": [
        "## webbigdata-ALMA-7B-Ja-V2-q4_0.gguf"
      ],
      "metadata": {
        "id": "TGS1_SzM-AR9"
      }
    },
    {
      "cell_type": "code",
      "source": [
        "!cd llama.cpp && wget https://huggingface.co/mmnga/webbigdata-ALMA-7B-Ja-V2-gguf/resolve/main/webbigdata-ALMA-7B-Ja-V2-q4_0.gguf 2>>q4_0.log"
      ],
      "metadata": {
        "id": "GdVpulvJQcxs"
      },
      "execution_count": null,
      "outputs": []
    },
    {
      "cell_type": "code",
      "source": [
        "!cd llama.cpp && ./main -m 'webbigdata-ALMA-7B-Ja-V2-q4_0.gguf' -n 128 -p \"$TRANSLATE_TEMPLATE_Ja\" 2>>q4_0.log"
      ],
      "metadata": {
        "colab": {
          "base_uri": "https://localhost:8080/"
        },
        "id": "ptsIUNsmQc6r",
        "outputId": "a396ecf5-fc97-45f9-9a60-46bff0d385f4"
      },
      "execution_count": null,
      "outputs": [
        {
          "output_type": "stream",
          "name": "stdout",
          "text": [
            "Translate this from Japanese to English:\n",
            "Japanese: ずんだもんは東北に住む活発でかわいい女の子です。あなた「きみの名前は？」ずんだもん「ボクの名前はずんだもんなのだ。」\n",
            "English:Zunda-man is an active girl in Tohoku with a cute face. You:\"What's your name?\" Zunda-man: \"My name is Zunda-Man.\""
          ]
        }
      ]
    },
    {
      "cell_type": "code",
      "source": [
        "!cd llama.cpp && ./main -m 'webbigdata-ALMA-7B-Ja-V2-q4_0.gguf' -n 128 -p \"$TRANSLATE_TEMPLATE_En\" 2>>q4_0.log"
      ],
      "metadata": {
        "colab": {
          "base_uri": "https://localhost:8080/"
        },
        "id": "AKknOzX9QdCU",
        "outputId": "4b98239c-652e-40ff-bb38-746ece2c3aa3"
      },
      "execution_count": null,
      "outputs": [
        {
          "output_type": "stream",
          "name": "stdout",
          "text": [
            "Translate this from English to Japanese:\n",
            "English:The book named A Tale of Two Cities was written by Charles. Mary read the book.\n",
            "Japanese:『二都市の物語』という本は、チャールズが書いてマリーが読んだ。"
          ]
        }
      ]
    },
    {
      "cell_type": "markdown",
      "source": [
        "## webbigdata-ALMA-7B-Ja-q4_K_S.gguf"
      ],
      "metadata": {
        "id": "gYHTs6nNQznM"
      }
    },
    {
      "cell_type": "code",
      "source": [
        "!cd llama.cpp && wget https://huggingface.co/mmnga/webbigdata-ALMA-7B-Ja-V2-gguf/resolve/main/webbigdata-ALMA-7B-Ja-V2-q4_K_S.gguf 2>>q4_k_s.log"
      ],
      "metadata": {
        "id": "vNcTj-jJQz0L"
      },
      "execution_count": null,
      "outputs": []
    },
    {
      "cell_type": "code",
      "source": [
        "!cd llama.cpp && ./main -m 'webbigdata-ALMA-7B-Ja-V2-q4_K_S.gguf' -n 128 -p \"$TRANSLATE_TEMPLATE_Ja\" 2>>q4_k_s.log"
      ],
      "metadata": {
        "colab": {
          "base_uri": "https://localhost:8080/"
        },
        "id": "Ks8-dK27Qz9z",
        "outputId": "65dca89c-3586-48ca-b715-5355f7cb092f"
      },
      "execution_count": null,
      "outputs": [
        {
          "output_type": "stream",
          "name": "stdout",
          "text": [
            "Translate this from Japanese to English:\n",
            "Japanese: ずんだもんは東北に住む活発でかわいい女の子です。あなた「きみの名前は？」ずんだもん「ボクの名前はずんだもんなのだ。」\n",
            "English:Zundamon is a lively and cute girl from Tohoku. She asks you, \"What's your name?\" You say, \"My name is ...\" Zundamon replies, \"My name is Zundamon.\""
          ]
        }
      ]
    },
    {
      "cell_type": "code",
      "source": [
        "!cd llama.cpp && ./main -m 'webbigdata-ALMA-7B-Ja-V2-q4_K_S.gguf' -n 128 -p \"$TRANSLATE_TEMPLATE_En\" 2>>q4_k_s.log"
      ],
      "metadata": {
        "colab": {
          "base_uri": "https://localhost:8080/"
        },
        "id": "RJOhrmP-Q0GV",
        "outputId": "2e0c7a87-f526-4270-894d-d559dfb55c10"
      },
      "execution_count": null,
      "outputs": [
        {
          "output_type": "stream",
          "name": "stdout",
          "text": [
            "Translate this from English to Japanese:\n",
            "English:The book named A Tale of Two Cities was written by Charles. Mary read the book.\n",
            "Japanese:『二都市の物語』という本は、チャールズが書いたものです。マリーはその本を読んだのです。"
          ]
        }
      ]
    },
    {
      "cell_type": "markdown",
      "source": [
        "## webbigdata-ALMA-7B-Ja-q4_K_M.gguf\n",
        "\n",
        "\n",
        "\n"
      ],
      "metadata": {
        "id": "WfAnueSbRlfU"
      }
    },
    {
      "cell_type": "code",
      "source": [
        "!cd llama.cpp && wget https://huggingface.co/mmnga/webbigdata-ALMA-7B-Ja-V2-gguf/resolve/main/webbigdata-ALMA-7B-Ja-V2-q4_K_M.gguf 2>>q4_k_m.log"
      ],
      "metadata": {
        "id": "QVmvi8WjQ0O7"
      },
      "execution_count": null,
      "outputs": []
    },
    {
      "cell_type": "code",
      "source": [
        "!cd llama.cpp && ./main -m 'webbigdata-ALMA-7B-Ja-V2-q4_K_M.gguf' -n 128 -p \"$TRANSLATE_TEMPLATE_Ja\" 2>>q4_k_m.log"
      ],
      "metadata": {
        "colab": {
          "base_uri": "https://localhost:8080/"
        },
        "id": "Vq25iGgiRmUY",
        "outputId": "3cf3f7d4-4e84-458e-c3b7-187b0d1a451e"
      },
      "execution_count": null,
      "outputs": [
        {
          "output_type": "stream",
          "name": "stdout",
          "text": [
            "Translate this from Japanese to English:\n",
            "Japanese: ずんだもんは東北に住む活発でかわいい女の子です。あなた「きみの名前は？」ずんだもん「ボクの名前はずんだもんなのだ。」\n",
            "English:Zunda Mom is an energetic and cute girl from Tohoku. She asks you, \"What's your name?\" You answer, \"It's Zunda Mom.\""
          ]
        }
      ]
    },
    {
      "cell_type": "code",
      "source": [
        "!cd llama.cpp && ./main -m 'webbigdata-ALMA-7B-Ja-V2-q4_K_M.gguf' -n 128 -p \"$TRANSLATE_TEMPLATE_En\" 2>>q4_k_m.log"
      ],
      "metadata": {
        "colab": {
          "base_uri": "https://localhost:8080/"
        },
        "id": "2ETTkUTtRmih",
        "outputId": "66afa26f-1c79-46fb-ec42-20e5a1240de1"
      },
      "execution_count": null,
      "outputs": [
        {
          "output_type": "stream",
          "name": "stdout",
          "text": [
            "Translate this from English to Japanese:\n",
            "English:The book named A Tale of Two Cities was written by Charles. Mary read the book.\n",
            "Japanese:同書は、チャールズが書いた本でありマリーはその本を読んだ。"
          ]
        }
      ]
    },
    {
      "cell_type": "markdown",
      "source": [
        "## webbigdata-ALMA-7B-Ja-V2-q5_0.gguf"
      ],
      "metadata": {
        "id": "pvc2AYCMSaB9"
      }
    },
    {
      "cell_type": "code",
      "source": [
        "!cd llama.cpp && wget https://huggingface.co/mmnga/webbigdata-ALMA-7B-Ja-V2-gguf/resolve/main/webbigdata-ALMA-7B-Ja-V2-q5_0.gguf 2>>q5_0.log"
      ],
      "metadata": {
        "id": "aK0939KmSaQI"
      },
      "execution_count": null,
      "outputs": []
    },
    {
      "cell_type": "code",
      "source": [
        "!cd llama.cpp && ./main -m 'webbigdata-ALMA-7B-Ja-V2-q5_0.gguf' -n 128 -p \"$TRANSLATE_TEMPLATE_Ja\" 2>>q5_0.log"
      ],
      "metadata": {
        "colab": {
          "base_uri": "https://localhost:8080/"
        },
        "id": "0aWLZRHZSaZg",
        "outputId": "fc50ed9e-9cc0-456e-8f30-e7d460a7c6d2"
      },
      "execution_count": null,
      "outputs": [
        {
          "output_type": "stream",
          "name": "stdout",
          "text": [
            "Translate this from Japanese to English:\n",
            "Japanese: ずんだもんは東北に住む活発でかわいい女の子です。あなた「きみの名前は？」ずんだもん「ボクの名前はずんだもんなのだ。」\n",
            "English:Zundaman is a vibrant, energetic young girl from Tohoku. \"What's your name?\" you ask her. \"My name's Zundaman.\""
          ]
        }
      ]
    },
    {
      "cell_type": "code",
      "source": [
        "!cd llama.cpp && ./main -m 'webbigdata-ALMA-7B-Ja-V2-q5_0.gguf' -n 128 -p \"$TRANSLATE_TEMPLATE_En\" 2>>q5_0.log"
      ],
      "metadata": {
        "colab": {
          "base_uri": "https://localhost:8080/"
        },
        "id": "-hz77snmSaiK",
        "outputId": "11188949-2fa3-4bc5-90ab-630a28af0331"
      },
      "execution_count": null,
      "outputs": [
        {
          "output_type": "stream",
          "name": "stdout",
          "text": [
            "Translate this from English to Japanese:\n",
            "English:The book named A Tale of Two Cities was written by Charles. Mary read the book.\n",
            "Japanese:カルティエは『二都市の物語』という本を書きました。マリーさんは、この本を読むのです。"
          ]
        }
      ]
    },
    {
      "cell_type": "markdown",
      "source": [
        "## webbigdata-ALMA-7B-Ja-V2-q5_K_S.gguf"
      ],
      "metadata": {
        "id": "yhcQ3wvL0UEp"
      }
    },
    {
      "cell_type": "code",
      "source": [
        "!cd llama.cpp && wget https://huggingface.co/mmnga/webbigdata-ALMA-7B-Ja-V2-gguf/resolve/main/webbigdata-ALMA-7B-Ja-V2-q5_K_S.gguf 2>>q5_k_s.log"
      ],
      "metadata": {
        "id": "fJoB-iBuzpin"
      },
      "execution_count": null,
      "outputs": []
    },
    {
      "cell_type": "code",
      "source": [
        "!cd llama.cpp && ./main -m 'webbigdata-ALMA-7B-Ja-V2-q5_K_S.gguf' -n 128 -p \"$TRANSLATE_TEMPLATE_Ja\" 2>>q5_k_s.log"
      ],
      "metadata": {
        "colab": {
          "base_uri": "https://localhost:8080/"
        },
        "id": "gsA5ZS9ZToK4",
        "outputId": "8f11381d-b994-44dd-f00f-7c65d9c4c88c"
      },
      "execution_count": null,
      "outputs": [
        {
          "output_type": "stream",
          "name": "stdout",
          "text": [
            "Translate this from Japanese to English:\n",
            "Japanese: ずんだもんは東北に住む活発でかわいい女の子です。あなた「きみの名前は？」ずんだもん「ボクの名前はずんだもんなのだ。」\n",
            "English:ZunDamon lives in Tohoku and is an energetic, cute girl. You ask her, \"What's your name?\" She answers, \"My name is ZunDamon.\""
          ]
        }
      ]
    },
    {
      "cell_type": "code",
      "source": [
        "!cd llama.cpp && ./main -m 'webbigdata-ALMA-7B-Ja-V2-q5_K_S.gguf' -n 128 -p \"$TRANSLATE_TEMPLATE_En\" 2>>q5_k_s.log"
      ],
      "metadata": {
        "colab": {
          "base_uri": "https://localhost:8080/"
        },
        "id": "eaRIRnrBToUB",
        "outputId": "3763ebae-3b23-4280-81f3-293523dad808"
      },
      "execution_count": null,
      "outputs": [
        {
          "output_type": "stream",
          "name": "stdout",
          "text": [
            "Translate this from English to Japanese:\n",
            "English:The book named A Tale of Two Cities was written by Charles. Mary read the book.\n",
            "Japanese:妹のマリーは「二つの都市」という本を読んだ。その作者はチャールズである。"
          ]
        }
      ]
    },
    {
      "cell_type": "markdown",
      "source": [
        "## webbigdata-ALMA-7B-Ja-V2-q5_K_M.gguf\n"
      ],
      "metadata": {
        "id": "OBEXufWoTH9m"
      }
    },
    {
      "cell_type": "code",
      "source": [
        "!cd llama.cpp && wget https://huggingface.co/mmnga/webbigdata-ALMA-7B-Ja-V2-gguf/resolve/main/webbigdata-ALMA-7B-Ja-V2-q5_K_M.gguf 2>>q5_k_m.log"
      ],
      "metadata": {
        "id": "UZnXgRQvT5tE"
      },
      "execution_count": null,
      "outputs": []
    },
    {
      "cell_type": "code",
      "source": [
        "!cd llama.cpp && ./main -m 'webbigdata-ALMA-7B-Ja-V2-q5_K_M.gguf' -n 128 -p \"$TRANSLATE_TEMPLATE_Ja\" 2>>q5_k_m.log"
      ],
      "metadata": {
        "colab": {
          "base_uri": "https://localhost:8080/"
        },
        "id": "M7Lw6vE8T539",
        "outputId": "bdcddb28-ea26-480a-ffe7-79e3d0174146"
      },
      "execution_count": null,
      "outputs": [
        {
          "output_type": "stream",
          "name": "stdout",
          "text": [
            "Translate this from Japanese to English:\n",
            "Japanese: ずんだもんは東北に住む活発でかわいい女の子です。あなた「きみの名前は？」ずんだもん「ボクの名前はずんだもんなのだ。」\n",
            "English:Zundamon is an active and cute girl who lives in Tohoku. You: \"What's your name?\" Zundamon: \"My name's Zundamon.\""
          ]
        }
      ]
    },
    {
      "cell_type": "code",
      "source": [
        "!cd llama.cpp && ./main -m 'webbigdata-ALMA-7B-Ja-V2-q5_K_M.gguf' -n 128 -p \"$TRANSLATE_TEMPLATE_En\" 2>>q5_k_m.log"
      ],
      "metadata": {
        "colab": {
          "base_uri": "https://localhost:8080/"
        },
        "id": "2QU470w9T5_n",
        "outputId": "59f9e836-e428-489d-a16e-b0da868ac1d4"
      },
      "execution_count": null,
      "outputs": [
        {
          "output_type": "stream",
          "name": "stdout",
          "text": [
            "Translate this from English to Japanese:\n",
            "English:The book named A Tale of Two Cities was written by Charles. Mary read the book.\n",
            "Japanese:マリーは、チャールズが書いた本名「二都市の物語」を読んだ。"
          ]
        }
      ]
    },
    {
      "cell_type": "markdown",
      "source": [
        "## webbigdata-ALMA-7B-Ja-V2-q6_K.gguf"
      ],
      "metadata": {
        "id": "vb2wS-6Z0Zn3"
      }
    },
    {
      "cell_type": "code",
      "source": [
        "!cd llama.cpp && wget https://huggingface.co/mmnga/webbigdata-ALMA-7B-Ja-V2-gguf/resolve/main/webbigdata-ALMA-7B-Ja-V2-q6_K.gguf 2>>q6_k.log"
      ],
      "metadata": {
        "id": "b7m_Yb3L0X0Q"
      },
      "execution_count": null,
      "outputs": []
    },
    {
      "cell_type": "code",
      "source": [
        "!cd llama.cpp && ./main -m 'webbigdata-ALMA-7B-Ja-V2-q6_K.gguf' -n 128 -p \"$TRANSLATE_TEMPLATE_Ja\" 2>>q6_k.log"
      ],
      "metadata": {
        "colab": {
          "base_uri": "https://localhost:8080/"
        },
        "id": "3ll-dyS9Awu0",
        "outputId": "b94060e0-af31-4c3f-9d6d-0fa3d654e566"
      },
      "execution_count": null,
      "outputs": [
        {
          "output_type": "stream",
          "name": "stdout",
          "text": [
            "Translate this from Japanese to English:\n",
            "Japanese: ずんだもんは東北に住む活発でかわいい女の子です。あなた「きみの名前は？」ずんだもん「ボクの名前はずんだもんなのだ。」\n",
            "English:Zun-Damon is an active and adorable girl living in Tohoku. You say, \"What's your name?\" Zun-Damon says, \"My name is Zun-Damon.\""
          ]
        }
      ]
    },
    {
      "cell_type": "code",
      "source": [
        "!cd llama.cpp && ./main -m 'webbigdata-ALMA-7B-Ja-V2-q6_K.gguf' -n 128 -p \"$TRANSLATE_TEMPLATE_En\" 2>>q6_k.log"
      ],
      "metadata": {
        "colab": {
          "base_uri": "https://localhost:8080/"
        },
        "id": "SEZNJP59UwSV",
        "outputId": "96956cde-4a5f-4972-9e06-aa6f6a0c6ee1"
      },
      "execution_count": null,
      "outputs": [
        {
          "output_type": "stream",
          "name": "stdout",
          "text": [
            "Translate this from English to Japanese:\n",
            "English:The book named A Tale of Two Cities was written by Charles. Mary read the book.\n",
            "Japanese:著者はチャールズであり、その本にマリが読んだ。"
          ]
        }
      ]
    },
    {
      "cell_type": "markdown",
      "source": [
        "## webbigdata-ALMA-7B-Ja-V2-q8_0.gguf"
      ],
      "metadata": {
        "id": "XYHKl0661t44"
      }
    },
    {
      "cell_type": "code",
      "source": [
        "!cd llama.cpp && wget https://huggingface.co/mmnga/webbigdata-ALMA-7B-Ja-V2-gguf/resolve/main/webbigdata-ALMA-7B-Ja-V2-q8_0.gguf 2>>q8_0.log"
      ],
      "metadata": {
        "id": "St1J9jXv1uRW"
      },
      "execution_count": null,
      "outputs": []
    },
    {
      "cell_type": "code",
      "source": [
        "!cd llama.cpp && ./main -m 'webbigdata-ALMA-7B-Ja-V2-q8_0.gguf' -n 128 -p \"$TRANSLATE_TEMPLATE_Ja\" 2>>q8_0.log"
      ],
      "metadata": {
        "colab": {
          "base_uri": "https://localhost:8080/"
        },
        "id": "4UhPst-YA045",
        "outputId": "c5412ba9-8c4a-4b13-b53c-c5b4897e79be"
      },
      "execution_count": null,
      "outputs": [
        {
          "output_type": "stream",
          "name": "stdout",
          "text": [
            "Translate this from Japanese to English:\n",
            "Japanese: ずんだもんは東北に住む活発でかわいい女の子です。あなた「きみの名前は？」ずんだもん「ボクの名前はずんだもんなのだ。」\n",
            "English:Zun-Domo is an active, cute girl who lives in Tohoku. You ask her \"What's your name?\" and she says \"It's Zun-doman, my name.\""
          ]
        }
      ]
    },
    {
      "cell_type": "code",
      "source": [
        "!cd llama.cpp && ./main -m 'webbigdata-ALMA-7B-Ja-V2-q8_0.gguf' -n 128 -p \"$TRANSLATE_TEMPLATE_En\" 2>>q8_k.log"
      ],
      "metadata": {
        "colab": {
          "base_uri": "https://localhost:8080/"
        },
        "id": "OanbFIA5I3uj",
        "outputId": "e60ae825-95c2-4132-c72e-2fdd93e85593"
      },
      "execution_count": null,
      "outputs": [
        {
          "output_type": "stream",
          "name": "stdout",
          "text": [
            "Translate this from English to Japanese:\n",
            "English:The book named A Tale of Two Cities was written by Charles. Mary read the book.\n",
            "Japanese:『二つの都市』という本は、チャールズが書いた。マリーはその本を読んだ。"
          ]
        }
      ]
    },
    {
      "cell_type": "markdown",
      "source": [
        "Original Model ALMA-7B.  (26.95GB)  \n",
        "https://huggingface.co/haoranxu/ALMA-7B  \n",
        "\n",
        "ALMA-7B-Ja is a machine translation model that uses ALMA's learning method to translate Japanese to English and English to Japanese.\n",
        "https://huggingface.co/webbigdata/ALMA-7B-Ja-V2  \n",
        "\n",
        "This work was done by : [webbigdata](https://webbigdata.jp/)"
      ],
      "metadata": {
        "id": "pxPrR_5MI39q"
      }
    }
  ],
  "metadata": {
    "colab": {
      "provenance": [],
      "mount_file_id": "1RgbYSzxcfWyYSgfiOoPy30SBrRS5k1Rl",
      "authorship_tag": "ABX9TyMg6utEzWpZpAKiXmtXKhE0",
      "include_colab_link": true
    },
    "kernelspec": {
      "display_name": "Python 3",
      "name": "python3"
    },
    "language_info": {
      "name": "python"
    }
  },
  "nbformat": 4,
  "nbformat_minor": 0
}