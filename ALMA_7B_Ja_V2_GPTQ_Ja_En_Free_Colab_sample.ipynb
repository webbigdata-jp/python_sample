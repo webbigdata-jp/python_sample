{
  "cells": [
    {
      "cell_type": "markdown",
      "metadata": {
        "id": "view-in-github",
        "colab_type": "text"
      },
      "source": [
        "<a href=\"https://colab.research.google.com/github/webbigdata-jp/python_sample/blob/main/ALMA_7B_Ja_V2_GPTQ_Ja_En_Free_Colab_sample.ipynb\" target=\"_parent\"><img src=\"https://colab.research.google.com/assets/colab-badge.svg\" alt=\"Open In Colab\"/></a>"
      ]
    },
    {
      "cell_type": "markdown",
      "metadata": {
        "id": "9tCLTsfT_qgA"
      },
      "source": [
        "Original Model ALMA-7B.  (26.95GB)  \n",
        "https://huggingface.co/haoranxu/ALMA-7B  \n",
        "\n",
        "ALMA-7B-Ja-V2 is a further improved version of model [ALMA-7B-Ja](https://huggingface.co/webbigdata/ALMA-7B-Ja) that performs machine translation from Japanese to English (13.3 GB).  \n",
        "https://huggingface.co/webbigdata/ALMA-7B-Ja-V2\n",
        "\n",
        "ALMA-7B-Ja-V2-GPTQ-Ja-En is a quantized(miniaturized) version of the ALMA-7B-Ja-V2 model.(3.9GB)  \n",
        "https://huggingface.co/webbigdata/ALMA-7B-Ja-V2-GPTQ-Ja-En"
      ]
    },
    {
      "cell_type": "code",
      "execution_count": null,
      "metadata": {
        "id": "ygJ-cNOc_qTi"
      },
      "outputs": [],
      "source": [
        "%%bash\n",
        "pip install auto-gptq==0.4.2"
      ]
    },
    {
      "cell_type": "code",
      "execution_count": null,
      "metadata": {
        "id": "UewwoJ2FAOP4",
        "outputId": "c6a37e36-7c7e-4542-c9a2-0cf827855978",
        "colab": {
          "base_uri": "https://localhost:8080/"
        }
      },
      "outputs": [
        {
          "output_type": "stream",
          "name": "stderr",
          "text": [
            "WARNING:auto_gptq.modeling._base:Exllamav2 kernel is not installed, reset disable_exllamav2 to True. This may because you installed auto_gptq using a pre-build wheel on Windows, in which exllama_kernels are not compiled. To use exllama_kernels to further speedup inference, you can re-install auto_gptq from source.\n",
            "WARNING:auto_gptq.modeling._base:CUDA kernels for auto_gptq are not installed, this will result in very slow inference speed. This may because:\n",
            "1. You disabled CUDA extensions compilation by setting BUILD_CUDA_EXT=0 when install auto_gptq from source.\n",
            "2. You are using pytorch without CUDA support.\n",
            "3. CUDA and nvcc are not installed in your device.\n",
            "WARNING:auto_gptq.nn_modules.fused_llama_mlp:Skipping module injection for FusedLlamaMLPForQuantizedModel as currently not supported with use_triton=False.\n"
          ]
        },
        {
          "output_type": "stream",
          "name": "stdout",
          "text": [
            "[\"Translate this from Japanese to English:\\nJapanese: ファイト・クラブのルールその1。ファイト・クラブについて口にするな\\nEnglish:Fight Club Rule #1: Don't talk about Fight Club\"]\n",
            "['Translate this from English to Japanese:\\nEnglish: -A SMILE IS THE EASIEST WAY OUT OF A DIFFICULT SITUATION– SAKURA HARUNO.?\\nJapanese:「笑顔は難しい状況からの最も簡単な脱出法だ」とさくらはるのん。']\n"
          ]
        }
      ],
      "source": [
        "import torch\n",
        "from transformers import AutoTokenizer\n",
        "from auto_gptq import AutoGPTQForCausalLM\n",
        "\n",
        "quantized_model_dir = \"webbigdata/ALMA-7B-Ja-V2-GPTQ-Ja-En\"\n",
        "model_basename = \"model\"\n",
        "\n",
        "tokenizer = AutoTokenizer.from_pretrained(quantized_model_dir)\n",
        "\n",
        "model = AutoGPTQForCausalLM.from_quantized(\n",
        "        quantized_model_dir,\n",
        "        model_basename=model_basename,\n",
        "        use_safetensors=True,\n",
        "        device=\"cuda:0\")\n",
        "\n",
        "prompt1=\"Translate this from Japanese to English:\\nJapanese: ファイト・クラブのルールその1。ファイト・クラブについて口にするな\\nEnglish:\"\n",
        "input_ids = tokenizer(prompt1, return_tensors=\"pt\", padding=True, max_length=200, truncation=True).input_ids.cuda()\n",
        "\n",
        "# Translation\n",
        "with torch.no_grad():\n",
        "    generated_ids = model.generate(input_ids=input_ids, num_beams=5, max_new_tokens=250, do_sample=True, temperature=0.6, top_p=0.9)\n",
        "outputs = tokenizer.batch_decode(generated_ids, skip_special_tokens=True)\n",
        "print(outputs)\n",
        "\n",
        "prompt2=\"Translate this from English to Japanese:\\nEnglish: -A SMILE IS THE EASIEST WAY OUT OF A DIFFICULT SITUATION– SAKURA HARUNO.?\\nJapanese:\"\n",
        "input_ids = tokenizer(prompt2, return_tensors=\"pt\", padding=True, max_length=200, truncation=True).input_ids.cuda()\n",
        "with torch.no_grad():\n",
        "    generated_ids = model.generate(input_ids=input_ids, num_beams=5, max_new_tokens=250, do_sample=True, temperature=0.6, top_p=0.9)\n",
        "outputs = tokenizer.batch_decode(generated_ids, skip_special_tokens=True)\n",
        "print(outputs)\n",
        "\n"
      ]
    }
  ],
  "metadata": {
    "accelerator": "GPU",
    "colab": {
      "provenance": [],
      "gpuType": "T4",
      "mount_file_id": "1RgbYSzxcfWyYSgfiOoPy30SBrRS5k1Rl",
      "authorship_tag": "ABX9TyOlYWFWlA/jiCJNF41nd+BR",
      "include_colab_link": true
    },
    "kernelspec": {
      "display_name": "Python 3",
      "name": "python3"
    },
    "language_info": {
      "name": "python"
    }
  },
  "nbformat": 4,
  "nbformat_minor": 0
}