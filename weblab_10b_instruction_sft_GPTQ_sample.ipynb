{
  "nbformat": 4,
  "nbformat_minor": 0,
  "metadata": {
    "colab": {
      "provenance": [],
      "authorship_tag": "ABX9TyMzD2q2dNTm/YEdjySTTfCa",
      "include_colab_link": true
    },
    "kernelspec": {
      "name": "python3",
      "display_name": "Python 3"
    },
    "language_info": {
      "name": "python"
    }
  },
  "cells": [
    {
      "cell_type": "markdown",
      "metadata": {
        "id": "view-in-github",
        "colab_type": "text"
      },
      "source": [
        "<a href=\"https://colab.research.google.com/github/webbigdata-jp/python_sample/blob/main/weblab_10b_instruction_sft_GPTQ_sample.ipynb\" target=\"_parent\"><img src=\"https://colab.research.google.com/assets/colab-badge.svg\" alt=\"Open In Colab\"/></a>"
      ]
    },
    {
      "cell_type": "markdown",
      "source": [
        "# weblab-10b-instruction-sft-GPTQ\n",
        "\n",
        "original model [weblab-10b-instruction-sft](https://huggingface.co/matsuo-lab/weblab-10b-instruction-sft) which is a Japanese-centric multilingual GPT-NeoX model of 10 billion parameters.\n",
        "\n",
        "[weblab-10b-instruction-sft-GPTQ](https://huggingface.co/dahara1/weblab-10b-instruction-sft-GPTQ) is 4bit GPTQ Version.  \n",
        "\n",
        "It's mean that size is smaller and the execution speed is faster, but the inference performance may be a little worse.  You need autoGPTQ library to use this model.  "
      ],
      "metadata": {
        "id": "poOJKA6j-diK"
      }
    },
    {
      "cell_type": "code",
      "execution_count": null,
      "metadata": {
        "cellView": "form",
        "id": "KOm19whY-V0Y"
      },
      "outputs": [],
      "source": [
        "#@title ライブラリの事前準備\n",
        "%%capture\n",
        "\n",
        "pip install auto-gptq\n",
        "from transformers import AutoTokenizer\n",
        "from auto_gptq import AutoGPTQForCausalLM\n",
        "\n",
        "quantized_model_dir = \"dahara1/weblab-10b-instruction-sft-GPTQ\"\n",
        "model_basename = \"gptq_model-4bit-128g\"\n",
        "\n",
        "tokenizer = AutoTokenizer.from_pretrained(quantized_model_dir)\n",
        "\n",
        "model = AutoGPTQForCausalLM.from_quantized(\n",
        "        quantized_model_dir,\n",
        "        model_basename=model_basename,\n",
        "        use_safetensors=True,\n",
        "        device=\"cuda:0\")"
      ]
    },
    {
      "cell_type": "code",
      "source": [
        "#@title プロンプトの実行\n",
        "#@markdown AIに実行して貰いたい指示を日本語で設定してください。\n",
        "\n",
        "prompt_text = \"風の谷のナウシカのストーリーを教えてください\" #@param {type:\"string\"}\n",
        "prompt_template = f'以下は、タスクを説明する指示です。要求を適切に満たす応答を書きなさい。\\n\\n### 指示:\\n{prompt_text}\\n\\n### 応答:'\n",
        "\n",
        "tokens = tokenizer(prompt_template, return_tensors=\"pt\").to(\"cuda:0\").input_ids\n",
        "output = model.generate(input_ids=tokens, max_new_tokens=100, do_sample=True, temperature=0.8)\n",
        "print(tokenizer.decode(output[0]))"
      ],
      "metadata": {
        "cellView": "form",
        "id": "Y8swaw4K-6mf"
      },
      "execution_count": null,
      "outputs": []
    }
  ]
}