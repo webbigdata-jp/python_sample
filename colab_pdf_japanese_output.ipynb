{
  "nbformat": 4,
  "nbformat_minor": 0,
  "metadata": {
    "colab": {
      "name": "colab_pdf_japanese_output.ipynb",
      "provenance": [],
      "collapsed_sections": [],
      "include_colab_link": true
    },
    "kernelspec": {
      "name": "python3",
      "display_name": "Python 3"
    },
    "language_info": {
      "name": "python"
    }
  },
  "cells": [
    {
      "cell_type": "markdown",
      "metadata": {
        "id": "view-in-github",
        "colab_type": "text"
      },
      "source": [
        "<a href=\"https://colab.research.google.com/github/webbigdata-jp/python_sample/blob/main/colab_pdf_japanese_output.ipynb\" target=\"_parent\"><img src=\"https://colab.research.google.com/assets/colab-badge.svg\" alt=\"Open In Colab\"/></a>"
      ]
    },
    {
      "cell_type": "markdown",
      "metadata": {
        "id": "4pOvnZ2BtrPQ"
      },
      "source": [
        "# Colab上で日本語を含むPDFファイルを作成する\n",
        "\n",
        "\n",
        "## 参考サイト\n",
        "### FPDF公式サイト\n",
        "http://www.fpdf.org/\n",
        "### FPDF for Python公式サイト\n",
        "https://pyfpdf.readthedocs.io/en/latest/index.html\n",
        "### IPAフォントについて\n",
        "https://moji.or.jp/ipafont/\n",
        "### スタジオジブリ作品静止画\n",
        "https://www.ghibli.jp/info/013409/\n",
        "\n",
        "PDF内に日本語を含むグラフを使いたい場合は  \n",
        "\n",
        "1. matplotlibなどでグラフを作成する\n",
        "2. 作成したグラフを画像ファイルとして保存する\n",
        "3. 画像ファイルをPDFに取り込む\n",
        "\n",
        "の手順が必要になります。\n",
        "\n",
        "matplotlibで日本語を扱うための設定は\n",
        "[Google Colabのmatplotlibでグラフ内に日本語を使う方法](https://webbigdata.jp/study/post-11615)をご覧ください。\n"
      ]
    },
    {
      "cell_type": "code",
      "metadata": {
        "id": "p0l2kS-qkjhg"
      },
      "source": [
        "!pip install fpdf"
      ],
      "execution_count": null,
      "outputs": []
    },
    {
      "cell_type": "code",
      "metadata": {
        "id": "MOyuvvtausNV"
      },
      "source": [
        "# 日本語フォントをダウンロード\n",
        "!apt install fonts-ipaexfont\n",
        "# フォントがインストールされた事を確認\n",
        "!fc-list"
      ],
      "execution_count": null,
      "outputs": []
    },
    {
      "cell_type": "code",
      "metadata": {
        "id": "PxX0qtqM2IRG"
      },
      "source": [
        "# 背景画像をダウンロード\n",
        "!wget https://www.ghibli.jp/gallery/nausicaa047.jpg"
      ],
      "execution_count": null,
      "outputs": []
    },
    {
      "cell_type": "code",
      "metadata": {
        "id": "gqV4Y4xUwleE"
      },
      "source": [
        "from fpdf import FPDF\n",
        "# orientation = Portrait or Landscape\n",
        "# unit = pt or mm or cm or in\n",
        "pdf = FPDF(orientation = 'Landscape', unit = 'pt', format = 'A4')\n",
        "\n",
        "pdf.add_page()\n",
        "\n",
        "# add font \n",
        "font_path = '/usr/share/fonts/opentype/ipaexfont-gothic/ipaexg.ttf'\n",
        "pdf.add_font('IPAexGothic', fname=font_path, uni=True)\n",
        "font_path = '/usr/share/fonts/opentype/ipaexfont-mincho/ipaexm.ttf'\n",
        "pdf.add_font('IPAexMincho', fname=font_path, uni=True)\n",
        "\n",
        "pdf.set_font('IPAexGothic', '', 20)\n",
        "# pdf.set_text_color(255, 255, 255)\n",
        "\n",
        "# set background image\n",
        "from PIL import Image\n",
        "image_file = '/content/nausicaa047.jpg'\n",
        "image_base = '/content/nausicaa_base.jpg'\n",
        "photo = Image.open(image_file)\n",
        "photo_resize = photo.resize((1101, 595))\n",
        "photo_clop = photo_resize.crop((0, 0, 847, 595))\n",
        "photo_clop.save(image_base)\n",
        "pdf.image(image_base, x = 0, y = 0, w = 847, h = 595)\n",
        "\n",
        "x = 50\n",
        "y = 100\n",
        "pdf.text(x, y, \"風の谷のナウシカ(IPAexGothic)\")\n",
        "x = 50\n",
        "y = 120\n",
        "pdf.set_font('IPAexMincho', '', 20)\n",
        "pdf.text(x, y, \"風の谷のナウシカ(IPAexMincho)\")\n",
        "\n",
        "pdf.output('PDF_Report.pdf')\n",
        "\n",
        "from google.colab import files\n",
        "files.download('PDF_Report.pdf')\n",
        "\n"
      ],
      "execution_count": null,
      "outputs": []
    }
  ]
}