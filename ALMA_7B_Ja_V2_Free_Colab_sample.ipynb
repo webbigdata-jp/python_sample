{
  "cells": [
    {
      "cell_type": "markdown",
      "metadata": {
        "id": "view-in-github",
        "colab_type": "text"
      },
      "source": [
        "<a href=\"https://colab.research.google.com/github/webbigdata-jp/python_sample/blob/main/ALMA_7B_Ja_V2_Free_Colab_sample.ipynb\" target=\"_parent\"><img src=\"https://colab.research.google.com/assets/colab-badge.svg\" alt=\"Open In Colab\"/></a>"
      ]
    },
    {
      "cell_type": "markdown",
      "metadata": {
        "id": "9tCLTsfT_qgA"
      },
      "source": [
        "[ALMA-7B-Ja-V2](https://huggingface.co/webbigdata/ALMA-7B-Ja-V2)は日英、英日翻訳モデルです。  \n",
        "[ALMA-7B-Ja-V2](https://huggingface.co/webbigdata/ALMA-7B-Ja-V2) is a Japanese-English and English-Japanese translation model.  \n",
        "\n",
        "速度が遅く感じた場合は量子化版の[ALMA-7B-Ja-V2-GPTQ-Ja-En](https://huggingface.co/webbigdata/ALMA-7B-Ja-V2-GPTQ-Ja-En)を試してみてください  \n",
        "\n",
        "If you feel the speed is slow, try the quantized version [ALMA-7B-Ja-V2-GPTQ-Ja-En](https://huggingface.co/webbigdata/ALMA-7B-Ja-V2-GPTQ-Ja-En)  \n",
        "\n",
        "\n",
        "もし、以下のようなエラーが発生した場合は  \n",
        "if you enconter error below.  \n",
        "\n",
        "```RuntimeError: probability tensor contains either `inf`, `nan` or element < 0  ```\n",
        "\n",
        "これはメモリ不足を意味します。num_beamsかtoken sizeか翻訳文の長さを減らしてください。  \n",
        "It's mean your memory is not enough. decrease your num_beams or token size or translation text length.  \n"
      ]
    },
    {
      "cell_type": "code",
      "execution_count": null,
      "metadata": {
        "id": "ygJ-cNOc_qTi"
      },
      "outputs": [],
      "source": [
        "%%bash\n",
        "pip install huggingface_hub==0.17.3\n",
        "pip install dataclasses\n",
        "pip install transformers==4.34.0\n",
        "pip install accelerate==0.23.0\n",
        "pip install sentencepiece"
      ]
    },
    {
      "cell_type": "code",
      "execution_count": null,
      "metadata": {
        "colab": {
          "base_uri": "https://localhost:8080/",
          "height": 104,
          "referenced_widgets": [
            "578a33d55c214112bc4feca7a6128442",
            "83cf6ec1d71b44dc9090bff1409de0e7",
            "e78b3adb6f8444f6aaa0b25dec510a26",
            "cf6555a7ec34460084a85e5d976f0e96",
            "d7fd7a00c1dc4e56b7efd88a3c3727c7",
            "cc87528bd61a466b8b8df80cb9956a96",
            "7cf0d8f6e3c84d0fbb96b62d8bae4160",
            "0207615224844dfd8864841af8c45eb9",
            "d4b08c52239f46b1907bddc154170d71",
            "594988dd6b50440e9ac8bd01675227cd",
            "63f0965dfb2a454a8f7eb9352763455a"
          ]
        },
        "id": "UewwoJ2FAOP4",
        "outputId": "ecfb3a26-2ed3-4f77-ba61-b8f4665b0a2a"
      },
      "outputs": [
        {
          "output_type": "display_data",
          "data": {
            "text/plain": [
              "Loading checkpoint shards:   0%|          | 0/2 [00:00<?, ?it/s]"
            ],
            "application/vnd.jupyter.widget-view+json": {
              "version_major": 2,
              "version_minor": 0,
              "model_id": "578a33d55c214112bc4feca7a6128442"
            }
          },
          "metadata": {}
        },
        {
          "output_type": "stream",
          "name": "stderr",
          "text": [
            "Special tokens have been added in the vocabulary, make sure the associated word embeddings are fine-tuned or trained.\n"
          ]
        },
        {
          "output_type": "stream",
          "name": "stdout",
          "text": [
            "[\"Translate this from Japanese to English:\\nJapanese: 海賊王におれはなる!!!!\\nEnglish:I'm going to be a pirate king!\"]\n",
            "['Translate this from English to Japanese:\\nEnglish: This is our way. I have spoken!\\nJapanese:これが我々の道筋です。私は話しました！']\n"
          ]
        }
      ],
      "source": [
        "import torch\n",
        "from transformers import AutoModelForCausalLM\n",
        "from transformers import LlamaTokenizer\n",
        "\n",
        "# 0 is your 1st GPU memory. Please adjust to match your actual GPU memory.\n",
        "max_memory_mapping = { 0 : \"12GB\", \"cpu\": \"10GIB\"}\n",
        "\n",
        "model = AutoModelForCausalLM.from_pretrained(\"webbigdata/ALMA-7B-Ja-V2\", torch_dtype=torch.bfloat16, device_map=\"auto\", max_memory=max_memory_mapping)\n",
        "tokenizer = LlamaTokenizer.from_pretrained(\"webbigdata/ALMA-7B-Ja-V2\")\n",
        "\n",
        "prompt1=\"Translate this from Japanese to English:\\nJapanese: 海賊王におれはなる!!!!\\nEnglish:\"\n",
        "input_ids = tokenizer(prompt1, return_tensors=\"pt\", padding=True, max_length=200, truncation=True).input_ids.cuda()\n",
        "\n",
        "# Translation\n",
        "with torch.no_grad():\n",
        "    generated_ids = model.generate(input_ids=input_ids, num_beams=3, max_new_tokens=250, do_sample=True, temperature=0.6, top_p=0.9)\n",
        "outputs = tokenizer.batch_decode(generated_ids, skip_special_tokens=True)\n",
        "print(outputs)\n",
        "\n",
        "prompt2=\"Translate this from English to Japanese:\\nEnglish: This is our way. I have spoken!\\nJapanese:\"\n",
        "input_ids = tokenizer(prompt2, return_tensors=\"pt\", padding=True, max_length=200, truncation=True).input_ids.cuda()\n",
        "with torch.no_grad():\n",
        "    generated_ids = model.generate(input_ids=input_ids, num_beams=3, max_new_tokens=250, do_sample=True, temperature=0.6, top_p=0.9)\n",
        "outputs = tokenizer.batch_decode(generated_ids, skip_special_tokens=True)\n",
        "print(outputs)\n",
        "\n"
      ]
    }
  ],
  "metadata": {
    "accelerator": "GPU",
    "colab": {
      "provenance": [],
      "gpuType": "T4",
      "mount_file_id": "1RgbYSzxcfWyYSgfiOoPy30SBrRS5k1Rl",
      "authorship_tag": "ABX9TyPb/QKb7PyEhdyxgssIkKQK",
      "include_colab_link": true
    },
    "kernelspec": {
      "display_name": "Python 3",
      "name": "python3"
    },
    "language_info": {
      "name": "python"
    },
    "widgets": {
      "application/vnd.jupyter.widget-state+json": {
        "578a33d55c214112bc4feca7a6128442": {
          "model_module": "@jupyter-widgets/controls",
          "model_name": "HBoxModel",
          "model_module_version": "1.5.0",
          "state": {
            "_dom_classes": [],
            "_model_module": "@jupyter-widgets/controls",
            "_model_module_version": "1.5.0",
            "_model_name": "HBoxModel",
            "_view_count": null,
            "_view_module": "@jupyter-widgets/controls",
            "_view_module_version": "1.5.0",
            "_view_name": "HBoxView",
            "box_style": "",
            "children": [
              "IPY_MODEL_83cf6ec1d71b44dc9090bff1409de0e7",
              "IPY_MODEL_e78b3adb6f8444f6aaa0b25dec510a26",
              "IPY_MODEL_cf6555a7ec34460084a85e5d976f0e96"
            ],
            "layout": "IPY_MODEL_d7fd7a00c1dc4e56b7efd88a3c3727c7"
          }
        },
        "83cf6ec1d71b44dc9090bff1409de0e7": {
          "model_module": "@jupyter-widgets/controls",
          "model_name": "HTMLModel",
          "model_module_version": "1.5.0",
          "state": {
            "_dom_classes": [],
            "_model_module": "@jupyter-widgets/controls",
            "_model_module_version": "1.5.0",
            "_model_name": "HTMLModel",
            "_view_count": null,
            "_view_module": "@jupyter-widgets/controls",
            "_view_module_version": "1.5.0",
            "_view_name": "HTMLView",
            "description": "",
            "description_tooltip": null,
            "layout": "IPY_MODEL_cc87528bd61a466b8b8df80cb9956a96",
            "placeholder": "​",
            "style": "IPY_MODEL_7cf0d8f6e3c84d0fbb96b62d8bae4160",
            "value": "Loading checkpoint shards: 100%"
          }
        },
        "e78b3adb6f8444f6aaa0b25dec510a26": {
          "model_module": "@jupyter-widgets/controls",
          "model_name": "FloatProgressModel",
          "model_module_version": "1.5.0",
          "state": {
            "_dom_classes": [],
            "_model_module": "@jupyter-widgets/controls",
            "_model_module_version": "1.5.0",
            "_model_name": "FloatProgressModel",
            "_view_count": null,
            "_view_module": "@jupyter-widgets/controls",
            "_view_module_version": "1.5.0",
            "_view_name": "ProgressView",
            "bar_style": "success",
            "description": "",
            "description_tooltip": null,
            "layout": "IPY_MODEL_0207615224844dfd8864841af8c45eb9",
            "max": 2,
            "min": 0,
            "orientation": "horizontal",
            "style": "IPY_MODEL_d4b08c52239f46b1907bddc154170d71",
            "value": 2
          }
        },
        "cf6555a7ec34460084a85e5d976f0e96": {
          "model_module": "@jupyter-widgets/controls",
          "model_name": "HTMLModel",
          "model_module_version": "1.5.0",
          "state": {
            "_dom_classes": [],
            "_model_module": "@jupyter-widgets/controls",
            "_model_module_version": "1.5.0",
            "_model_name": "HTMLModel",
            "_view_count": null,
            "_view_module": "@jupyter-widgets/controls",
            "_view_module_version": "1.5.0",
            "_view_name": "HTMLView",
            "description": "",
            "description_tooltip": null,
            "layout": "IPY_MODEL_594988dd6b50440e9ac8bd01675227cd",
            "placeholder": "​",
            "style": "IPY_MODEL_63f0965dfb2a454a8f7eb9352763455a",
            "value": " 2/2 [01:07&lt;00:00, 30.82s/it]"
          }
        },
        "d7fd7a00c1dc4e56b7efd88a3c3727c7": {
          "model_module": "@jupyter-widgets/base",
          "model_name": "LayoutModel",
          "model_module_version": "1.2.0",
          "state": {
            "_model_module": "@jupyter-widgets/base",
            "_model_module_version": "1.2.0",
            "_model_name": "LayoutModel",
            "_view_count": null,
            "_view_module": "@jupyter-widgets/base",
            "_view_module_version": "1.2.0",
            "_view_name": "LayoutView",
            "align_content": null,
            "align_items": null,
            "align_self": null,
            "border": null,
            "bottom": null,
            "display": null,
            "flex": null,
            "flex_flow": null,
            "grid_area": null,
            "grid_auto_columns": null,
            "grid_auto_flow": null,
            "grid_auto_rows": null,
            "grid_column": null,
            "grid_gap": null,
            "grid_row": null,
            "grid_template_areas": null,
            "grid_template_columns": null,
            "grid_template_rows": null,
            "height": null,
            "justify_content": null,
            "justify_items": null,
            "left": null,
            "margin": null,
            "max_height": null,
            "max_width": null,
            "min_height": null,
            "min_width": null,
            "object_fit": null,
            "object_position": null,
            "order": null,
            "overflow": null,
            "overflow_x": null,
            "overflow_y": null,
            "padding": null,
            "right": null,
            "top": null,
            "visibility": null,
            "width": null
          }
        },
        "cc87528bd61a466b8b8df80cb9956a96": {
          "model_module": "@jupyter-widgets/base",
          "model_name": "LayoutModel",
          "model_module_version": "1.2.0",
          "state": {
            "_model_module": "@jupyter-widgets/base",
            "_model_module_version": "1.2.0",
            "_model_name": "LayoutModel",
            "_view_count": null,
            "_view_module": "@jupyter-widgets/base",
            "_view_module_version": "1.2.0",
            "_view_name": "LayoutView",
            "align_content": null,
            "align_items": null,
            "align_self": null,
            "border": null,
            "bottom": null,
            "display": null,
            "flex": null,
            "flex_flow": null,
            "grid_area": null,
            "grid_auto_columns": null,
            "grid_auto_flow": null,
            "grid_auto_rows": null,
            "grid_column": null,
            "grid_gap": null,
            "grid_row": null,
            "grid_template_areas": null,
            "grid_template_columns": null,
            "grid_template_rows": null,
            "height": null,
            "justify_content": null,
            "justify_items": null,
            "left": null,
            "margin": null,
            "max_height": null,
            "max_width": null,
            "min_height": null,
            "min_width": null,
            "object_fit": null,
            "object_position": null,
            "order": null,
            "overflow": null,
            "overflow_x": null,
            "overflow_y": null,
            "padding": null,
            "right": null,
            "top": null,
            "visibility": null,
            "width": null
          }
        },
        "7cf0d8f6e3c84d0fbb96b62d8bae4160": {
          "model_module": "@jupyter-widgets/controls",
          "model_name": "DescriptionStyleModel",
          "model_module_version": "1.5.0",
          "state": {
            "_model_module": "@jupyter-widgets/controls",
            "_model_module_version": "1.5.0",
            "_model_name": "DescriptionStyleModel",
            "_view_count": null,
            "_view_module": "@jupyter-widgets/base",
            "_view_module_version": "1.2.0",
            "_view_name": "StyleView",
            "description_width": ""
          }
        },
        "0207615224844dfd8864841af8c45eb9": {
          "model_module": "@jupyter-widgets/base",
          "model_name": "LayoutModel",
          "model_module_version": "1.2.0",
          "state": {
            "_model_module": "@jupyter-widgets/base",
            "_model_module_version": "1.2.0",
            "_model_name": "LayoutModel",
            "_view_count": null,
            "_view_module": "@jupyter-widgets/base",
            "_view_module_version": "1.2.0",
            "_view_name": "LayoutView",
            "align_content": null,
            "align_items": null,
            "align_self": null,
            "border": null,
            "bottom": null,
            "display": null,
            "flex": null,
            "flex_flow": null,
            "grid_area": null,
            "grid_auto_columns": null,
            "grid_auto_flow": null,
            "grid_auto_rows": null,
            "grid_column": null,
            "grid_gap": null,
            "grid_row": null,
            "grid_template_areas": null,
            "grid_template_columns": null,
            "grid_template_rows": null,
            "height": null,
            "justify_content": null,
            "justify_items": null,
            "left": null,
            "margin": null,
            "max_height": null,
            "max_width": null,
            "min_height": null,
            "min_width": null,
            "object_fit": null,
            "object_position": null,
            "order": null,
            "overflow": null,
            "overflow_x": null,
            "overflow_y": null,
            "padding": null,
            "right": null,
            "top": null,
            "visibility": null,
            "width": null
          }
        },
        "d4b08c52239f46b1907bddc154170d71": {
          "model_module": "@jupyter-widgets/controls",
          "model_name": "ProgressStyleModel",
          "model_module_version": "1.5.0",
          "state": {
            "_model_module": "@jupyter-widgets/controls",
            "_model_module_version": "1.5.0",
            "_model_name": "ProgressStyleModel",
            "_view_count": null,
            "_view_module": "@jupyter-widgets/base",
            "_view_module_version": "1.2.0",
            "_view_name": "StyleView",
            "bar_color": null,
            "description_width": ""
          }
        },
        "594988dd6b50440e9ac8bd01675227cd": {
          "model_module": "@jupyter-widgets/base",
          "model_name": "LayoutModel",
          "model_module_version": "1.2.0",
          "state": {
            "_model_module": "@jupyter-widgets/base",
            "_model_module_version": "1.2.0",
            "_model_name": "LayoutModel",
            "_view_count": null,
            "_view_module": "@jupyter-widgets/base",
            "_view_module_version": "1.2.0",
            "_view_name": "LayoutView",
            "align_content": null,
            "align_items": null,
            "align_self": null,
            "border": null,
            "bottom": null,
            "display": null,
            "flex": null,
            "flex_flow": null,
            "grid_area": null,
            "grid_auto_columns": null,
            "grid_auto_flow": null,
            "grid_auto_rows": null,
            "grid_column": null,
            "grid_gap": null,
            "grid_row": null,
            "grid_template_areas": null,
            "grid_template_columns": null,
            "grid_template_rows": null,
            "height": null,
            "justify_content": null,
            "justify_items": null,
            "left": null,
            "margin": null,
            "max_height": null,
            "max_width": null,
            "min_height": null,
            "min_width": null,
            "object_fit": null,
            "object_position": null,
            "order": null,
            "overflow": null,
            "overflow_x": null,
            "overflow_y": null,
            "padding": null,
            "right": null,
            "top": null,
            "visibility": null,
            "width": null
          }
        },
        "63f0965dfb2a454a8f7eb9352763455a": {
          "model_module": "@jupyter-widgets/controls",
          "model_name": "DescriptionStyleModel",
          "model_module_version": "1.5.0",
          "state": {
            "_model_module": "@jupyter-widgets/controls",
            "_model_module_version": "1.5.0",
            "_model_name": "DescriptionStyleModel",
            "_view_count": null,
            "_view_module": "@jupyter-widgets/base",
            "_view_module_version": "1.2.0",
            "_view_name": "StyleView",
            "description_width": ""
          }
        }
      }
    }
  },
  "nbformat": 4,
  "nbformat_minor": 0
}