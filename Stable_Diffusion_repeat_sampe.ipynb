{
  "cells": [
    {
      "cell_type": "markdown",
      "metadata": {
        "id": "view-in-github",
        "colab_type": "text"
      },
      "source": [
        "<a href=\"https://colab.research.google.com/github/webbigdata-jp/python_sample/blob/main/Stable_Diffusion_repeat_sampe.ipynb\" target=\"_parent\"><img src=\"https://colab.research.google.com/assets/colab-badge.svg\" alt=\"Open In Colab\"/></a>"
      ]
    },
    {
      "cell_type": "markdown",
      "id": "b63f5b24",
      "metadata": {
        "id": "b63f5b24"
      },
      "source": [
        "# 連続して複数のイラストを描けるようになるためのColab"
      ]
    },
    {
      "cell_type": "markdown",
      "source": [],
      "metadata": {
        "id": "L8TCLUYQ1ef1"
      },
      "id": "L8TCLUYQ1ef1"
    },
    {
      "cell_type": "markdown",
      "id": "4359fc1a",
      "metadata": {
        "id": "4359fc1a"
      },
      "source": [
        "本Colabではシードを再利用してStable Diffusionで同じ絵描く方法を学びます"
      ]
    },
    {
      "cell_type": "markdown",
      "source": [
        "## Setup"
      ],
      "metadata": {
        "id": "B4y0C78T2qn3"
      },
      "id": "B4y0C78T2qn3"
    },
    {
      "cell_type": "markdown",
      "source": [
        "まず、上段メニューの「ランタイム」を選択し「ランタイムのタイプを変更」より「ハードウェアアクセラレータ」に「GPU」を選んで「保存」を押してください。GPUはAIを効率的に動かすために必要なハードウェアです。\n",
        "\n",
        "![gpu.png](data:image/png;base64,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)"
      ],
      "metadata": {
        "id": "pta4L0TK2zqc"
      },
      "id": "pta4L0TK2zqc"
    },
    {
      "cell_type": "markdown",
      "source": [
        "### モデルのダウンロード\n",
        "動かすために必要なライブラリのインストールします"
      ],
      "metadata": {
        "id": "J23lBd_k3SVq"
      },
      "id": "J23lBd_k3SVq"
    },
    {
      "cell_type": "code",
      "source": [
        "%%capture\n",
        "%%shell\n",
        "#@markdown ライブラリのインストール\n",
        "#!pip install git+https://github.com/huggingface/diffusers.git\n",
        "pip install diffusers==0.12\n",
        "pip install transformers scipy ftfy\n",
        "pip install \"ipywidgets>=7,<8\"\n",
        "#from google.colab import output\n",
        "#output.enable_custom_widget_manager()"
      ],
      "metadata": {
        "id": "HGcM2nF53WxR",
        "cellView": "form"
      },
      "id": "HGcM2nF53WxR",
      "execution_count": null,
      "outputs": []
    },
    {
      "cell_type": "markdown",
      "source": [
        "このデモはStable Diffusionの学習済モデルを使用します。  \n",
        "\n",
        "以下のセルを実行すると約5Gバイトのモデルをダウンロードするので数分かかります。ライセンス等の使用条件を[配布サイト](https://huggingface.co/spaces/CompVis/stable-diffusion-license)で確認した上で実行してください。"
      ],
      "metadata": {
        "id": "gvaWVjJm4hlq"
      },
      "id": "gvaWVjJm4hlq"
    },
    {
      "cell_type": "code",
      "source": [
        "%%capture\n",
        "%%shell\n",
        "#@markdown セットアップ\n",
        "\n",
        "\n",
        "MODEL=\"runwayml/stable-diffusion-v1-5\"\n",
        "\n",
        "mkdir -p $MODEL\n",
        "cd $MODEL\n",
        "wget https://huggingface.co/${MODEL}/raw/main/model_index.json\n",
        "\n",
        "mkdir vae\n",
        "cd vae\n",
        "wget https://huggingface.co/${MODEL}/raw/main/vae/config.json\n",
        "wget https://huggingface.co/${MODEL}/resolve/main/vae/diffusion_pytorch_model.bin\n",
        "\n",
        "cd ..\n",
        "\n",
        "mkdir unet\n",
        "cd unet\n",
        "wget https://huggingface.co/${MODEL}/raw/main/unet/config.json\n",
        "wget https://huggingface.co/${MODEL}/resolve/main/unet/diffusion_pytorch_model.bin\n",
        "cd ..\n",
        "\n",
        "mkdir tokenizer\n",
        "cd tokenizer\n",
        "wget https://huggingface.co/${MODEL}/raw/main/tokenizer/merges.txt\n",
        "wget https://huggingface.co/${MODEL}/raw/main/tokenizer/special_tokens_map.json\n",
        "wget https://huggingface.co/${MODEL}/raw/main/tokenizer/tokenizer_config.json\n",
        "wget https://huggingface.co/${MODEL}/raw/main/tokenizer/vocab.json\n",
        "cd ..\n",
        "\n",
        "mkdir text_encoder\n",
        "cd text_encoder\n",
        "wget https://huggingface.co/${MODEL}/raw/main/text_encoder/config.json\n",
        "wget https://huggingface.co/${MODEL}/resolve/main/text_encoder/pytorch_model.bin\n",
        "cd ..\n",
        "\n",
        "mkdir scheduler\n",
        "cd scheduler\n",
        "wget https://huggingface.co/${MODEL}/raw/main/scheduler/scheduler_config.json\n",
        "cd ..\n",
        "\n",
        "mkdir feature_extractor\n",
        "cd feature_extractor\n",
        "wget https://huggingface.co/${MODEL}/raw/main/feature_extractor/preprocessor_config.json\n",
        "cd ..\n",
        "\n",
        "mkdir safety_checker\n",
        "cd safety_checker\n",
        "wget https://huggingface.co/${MODEL}/resolve/main/safety_checker/pytorch_model.bin\n",
        "wget https://huggingface.co/${MODEL}/raw/main/safety_checker/config.json\n",
        "\n",
        "\n",
        "\n",
        "cd ..\n",
        "cd .."
      ],
      "metadata": {
        "id": "Spvfa2tK54pu",
        "cellView": "form"
      },
      "id": "Spvfa2tK54pu",
      "execution_count": null,
      "outputs": []
    },
    {
      "cell_type": "markdown",
      "source": [
        "### Stable Diffusionでイラストを生成するためのスクリプトの実行"
      ],
      "metadata": {
        "id": "1IWZoEpF6Lx_"
      },
      "id": "1IWZoEpF6Lx_"
    },
    {
      "cell_type": "code",
      "execution_count": null,
      "id": "b92eb62a",
      "metadata": {
        "id": "b92eb62a",
        "cellView": "form"
      },
      "outputs": [],
      "source": [
        "%%capture\n",
        "#@markdown スクリプトの実行\n",
        "\n",
        "import torch\n",
        "from diffusers import StableDiffusionPipeline\n",
        "\n",
        "\n",
        "device = \"cuda\"\n",
        "model_id = \"runwayml/stable-diffusion-v1-5\"\n",
        "\n",
        "pipe = StableDiffusionPipeline.from_pretrained(\n",
        "    model_id,\n",
        "    revision=\"fp16\",\n",
        "    torch_dtype=torch.float16,\n",
        "    low_cpu_mem_usage=True, \n",
        "    local_files_only=True\n",
        ").to(device)\n",
        "\n",
        "from PIL import Image\n",
        "\n",
        "def image_grid(imgs, rows, cols):\n",
        "    assert len(imgs) == rows*cols\n",
        "\n",
        "    w, h = imgs[0].size\n",
        "    grid = Image.new('RGB', size=(cols*w, rows*h))\n",
        "    grid_w, grid_h = grid.size\n",
        "    \n",
        "    for i, img in enumerate(imgs):\n",
        "        grid.paste(img, box=(i%cols*w, i//cols*h))\n",
        "    return grid\n",
        "\n",
        "num_images = 4\n",
        "width = 512\n",
        "height = 512\n",
        "\n",
        "generator = torch.Generator(device=device)\n",
        "\n",
        "latents = None\n",
        "seeds = []\n",
        "for _ in range(num_images):\n",
        "    # Get a new random seed, store it and use it as the generator state\n",
        "    seed = generator.seed()\n",
        "    seeds.append(seed)\n",
        "    generator = generator.manual_seed(seed)\n",
        "    \n",
        "    image_latents = torch.randn(\n",
        "        (1, pipe.unet.in_channels, height // 8, width // 8),\n",
        "        generator = generator,\n",
        "        device = device\n",
        "    )\n",
        "    latents = image_latents if latents is None else torch.cat((latents, image_latents))\n",
        "    \n",
        "# latents should have shape (4, 4, 64, 64) in this case\n",
        "latents.shape\n"
      ]
    },
    {
      "cell_type": "markdown",
      "source": [
        "## 画像の生成"
      ],
      "metadata": {
        "id": "qnbomGz0Y7iX"
      },
      "id": "qnbomGz0Y7iX"
    },
    {
      "cell_type": "markdown",
      "id": "ce5f4c62",
      "metadata": {
        "id": "ce5f4c62"
      },
      "source": [
        "それでは「フェルメール風のラブラドール」をプロンプトに指定して画像を生成してみましょう。"
      ]
    },
    {
      "cell_type": "code",
      "execution_count": null,
      "id": "75109229",
      "metadata": {
        "id": "75109229"
      },
      "outputs": [],
      "source": [
        "prompt = \"Labrador in the style of Vermeer\"\n",
        "\n",
        "with torch.autocast(\"cuda\"):\n",
        "    images = pipe(\n",
        "        [prompt] * num_images,\n",
        "        guidance_scale=7.5,\n",
        "        latents = latents,\n",
        "    ).images\n",
        "\n",
        "image_grid(images, 2, 2)"
      ]
    },
    {
      "cell_type": "markdown",
      "id": "11f6e7f8",
      "metadata": {
        "id": "11f6e7f8"
      },
      "source": [
        "何番目が良いですか？  \n",
        "Colabは実行するスクリプトを変更する事でスクリプトの動作を変える事ができます。  \n",
        "同じシードを使用すると、同じ結果が得られるはずです。"
      ]
    },
    {
      "cell_type": "code",
      "execution_count": null,
      "id": "cf996058",
      "metadata": {
        "id": "cf996058"
      },
      "outputs": [],
      "source": [
        "select_image = 1\n",
        "seed = seeds[select_image] \n",
        "seed\n",
        "images[select_image].save(\"selected_image\" + str(seed ) + \".png\")"
      ]
    },
    {
      "cell_type": "markdown",
      "id": "6debecc1",
      "metadata": {
        "id": "6debecc1"
      },
      "source": [
        "同じシードと同じプロンプトを使用して画像生成を繰り返すと、前と同じ画像が得られるはずです。"
      ]
    },
    {
      "cell_type": "code",
      "execution_count": null,
      "id": "63075b10",
      "metadata": {
        "id": "63075b10"
      },
      "outputs": [],
      "source": [
        "generator.manual_seed(seed)\n",
        "\n",
        "latents = torch.randn(\n",
        "    (1, pipe.unet.in_channels, height // 8, width // 8),\n",
        "    generator = generator,\n",
        "    device = device\n",
        ")\n",
        "\n",
        "with torch.autocast(\"cuda\"):\n",
        "    image = pipe(\n",
        "        [prompt] * 1,\n",
        "        guidance_scale=7.5,\n",
        "        latents = latents,\n",
        "    ).images\n",
        "    \n",
        "image[0]"
      ]
    },
    {
      "cell_type": "markdown",
      "id": "152ac2a3",
      "metadata": {
        "id": "152ac2a3"
      },
      "source": [
        "できました！\n",
        "\n",
        "これで、同じシードを維持しながらプロンプトを微調整することができます。 そして、構造は似ているけれども内容やスタイルが異なる画像を作成できます。\n",
        "\n",
        "例えば：\n",
        "フェルメール風のテリア"
      ]
    },
    {
      "cell_type": "code",
      "execution_count": null,
      "id": "5e7539ea",
      "metadata": {
        "id": "5e7539ea"
      },
      "outputs": [],
      "source": [
        "prompt = \"Terrier in the style of Vermeer\"\n",
        "\n",
        "with torch.autocast(\"cuda\"):\n",
        "    image = pipe(\n",
        "        [prompt] * 1,\n",
        "        guidance_scale=7.5,\n",
        "        latents = latents,\n",
        "    ).images\n",
        "    \n",
        "image[0]"
      ]
    },
    {
      "cell_type": "markdown",
      "source": [
        "ゴッホ風のラブラドール"
      ],
      "metadata": {
        "id": "kULM5ys_JWUh"
      },
      "id": "kULM5ys_JWUh"
    },
    {
      "cell_type": "code",
      "execution_count": null,
      "id": "e86e008d",
      "metadata": {
        "id": "e86e008d"
      },
      "outputs": [],
      "source": [
        "prompt = \"Labrador in the style of Van Gogh\"\n",
        "\n",
        "with torch.autocast(\"cuda\"):\n",
        "    image = pipe(\n",
        "        [prompt] * 1,\n",
        "        guidance_scale=7.5,\n",
        "        latents = latents,\n",
        "    ).images\n",
        "    \n",
        "image[0]"
      ]
    },
    {
      "cell_type": "markdown",
      "source": [
        "フェルメール風のピエロ"
      ],
      "metadata": {
        "id": "W2j_h-oCJU5U"
      },
      "id": "W2j_h-oCJU5U"
    },
    {
      "cell_type": "code",
      "source": [
        "prompt = \"Clown in the style of Vermeer\"\n",
        "\n",
        "with torch.autocast(\"cuda\"):\n",
        "    image = pipe(\n",
        "        [prompt] * 1,\n",
        "        guidance_scale=7.5,\n",
        "        latents = latents,\n",
        "    ).images\n",
        "    \n",
        "image[0]"
      ],
      "metadata": {
        "id": "RJvTcb69_waB"
      },
      "id": "RJvTcb69_waB",
      "execution_count": null,
      "outputs": []
    },
    {
      "cell_type": "markdown",
      "source": [
        "### GoogleDriveとの連携"
      ],
      "metadata": {
        "id": "gaRFk7XMMPWm"
      },
      "id": "gaRFk7XMMPWm"
    },
    {
      "cell_type": "code",
      "source": [
        "%%capture\n",
        "#@markdown Googleドライブ連携\n",
        "from google.colab import drive\n",
        "drive.mount('/content/drive')"
      ],
      "metadata": {
        "id": "vpURky8YMTQU"
      },
      "id": "vpURky8YMTQU",
      "execution_count": null,
      "outputs": []
    }
  ],
  "metadata": {
    "kernelspec": {
      "display_name": "Python 3 (ipykernel)",
      "language": "python",
      "name": "python3"
    },
    "language_info": {
      "codemirror_mode": {
        "name": "ipython",
        "version": 3
      },
      "file_extension": ".py",
      "mimetype": "text/x-python",
      "name": "python",
      "nbconvert_exporter": "python",
      "pygments_lexer": "ipython3",
      "version": "3.9.12"
    },
    "toc": {
      "base_numbering": 1,
      "nav_menu": {},
      "number_sections": true,
      "sideBar": true,
      "skip_h1_title": false,
      "title_cell": "Table of Contents",
      "title_sidebar": "Contents",
      "toc_cell": false,
      "toc_position": {},
      "toc_section_display": true,
      "toc_window_display": false
    },
    "colab": {
      "provenance": [],
      "private_outputs": true,
      "include_colab_link": true
    },
    "accelerator": "GPU",
    "gpuClass": "standard"
  },
  "nbformat": 4,
  "nbformat_minor": 5
}