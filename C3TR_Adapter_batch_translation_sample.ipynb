{
  "cells": [
    {
      "cell_type": "markdown",
      "metadata": {
        "id": "view-in-github",
        "colab_type": "text"
      },
      "source": [
        "<a href=\"https://colab.research.google.com/github/webbigdata-jp/python_sample/blob/main/C3TR_Adapter_batch_translation_sample.ipynb\" target=\"_parent\"><img src=\"https://colab.research.google.com/assets/colab-badge.svg\" alt=\"Open In Colab\"/></a>"
      ]
    },
    {
      "cell_type": "markdown",
      "metadata": {
        "id": "9tCLTsfT_qgA"
      },
      "source": [
        "# [C3TR-Adapter](https://huggingface.co/webbigdata/C3TR-Adapter) batch translaion sample.\n",
        "\n",
        "アップロードされたファイルを英語から日本語、または日本語から英語に一括翻訳し、ファイルとして出力します。  \n",
        "Translate uploaded file from English to Japanese or from Japanese to English in bulk and output it as file.  \n",
        "\n",
        "\n",
        "以下は既知の問題です。  \n",
        "Below are the known issues  \n",
        "\n",
        "- 長い文章を入力するとエラーになります。\n",
        "- 意味のない文章や日本語でない文章を入力すると、出力がおかしくなることがあります。\n",
        "\n",
        "- If you give a long sentence, an error will occur.(This is a limitation of free Colab)\n",
        "- If you provide meaningless sentences or sentences that are not Japanese, the output may become strange."
      ]
    },
    {
      "cell_type": "markdown",
      "source": [
        "## (1)Install required libraries"
      ],
      "metadata": {
        "id": "zedYDn634dMn"
      }
    },
    {
      "cell_type": "code",
      "execution_count": null,
      "metadata": {
        "id": "ygJ-cNOc_qTi",
        "cellView": "form"
      },
      "outputs": [],
      "source": [
        "%%capture\n",
        "%%shell\n",
        "#@title Install Required Libraries\n",
        "pip install peft==0.9.0 bitsandbytes==0.42.0"
      ]
    },
    {
      "cell_type": "markdown",
      "source": [
        "## (2)Setting Up"
      ],
      "metadata": {
        "id": "pXAuW7B54q1o"
      }
    },
    {
      "cell_type": "code",
      "source": [
        "#@title Upload Text File(.txt only)\n",
        "import os\n",
        "from google.colab import files\n",
        "import shutil\n",
        "\n",
        "uploaded = files.upload()"
      ],
      "metadata": {
        "id": "7crRQAAE5CGP",
        "cellView": "form"
      },
      "execution_count": null,
      "outputs": []
    },
    {
      "cell_type": "code",
      "source": [
        "#@title Translation Setting\n",
        "Translation_direction = 'Japanese to English' #@param [\"Japanese to English\", \"English to Japanese\"]"
      ],
      "metadata": {
        "id": "0yUosS3ZK9Pt",
        "cellView": "form"
      },
      "execution_count": null,
      "outputs": []
    },
    {
      "cell_type": "code",
      "source": [
        "%%capture\n",
        "#@title Download Model (may take a few minutes)\n",
        "from transformers import AutoModelForCausalLM, AutoTokenizer\n",
        "from peft import PeftModel\n",
        "\n",
        "model_id = \"unsloth/gemma-7b-bnb-4bit\"\n",
        "peft_model_id = \"webbigdata/C3TR-Adapter\"\n",
        "\n",
        "model = AutoModelForCausalLM.from_pretrained(model_id, device_map=\"auto\")\n",
        "model = PeftModel.from_pretrained(model = model, model_id = peft_model_id)\n",
        "tokenizer = AutoTokenizer.from_pretrained(model_id)\n",
        "\n",
        "import re\n",
        "\n",
        "\n",
        "def contains_japanese(text):\n",
        "    # 日本語の文字範囲を確認するための正規表現パターン\n",
        "    # 平仮名: 3040-309F, 片仮名: 30A0-30FF, 漢字: 4E00-9FAF (旧字体、新字体)\n",
        "    pattern = re.compile('[\\u3040-\\u309F\\u30A0-\\u30FF\\u4E00-\\u9FAF]')\n",
        "    return re.search(pattern, text) is not None\n",
        "\n",
        "def trans(prompt, model, tokenizer, Translation_direction):\n",
        "    input_ids = tokenizer(prompt, return_tensors=\"pt\",\n",
        "        padding=True, max_length=1600, truncation=True).input_ids.cuda()\n",
        "\n",
        "    # Translation\n",
        "    generated_ids = model.generate(input_ids=input_ids,\n",
        "        max_new_tokens=800,\n",
        "        use_cache=True,\n",
        "        prompt_lookup_num_tokens=10\n",
        "        )\n",
        "    full_outputs = tokenizer.batch_decode(generated_ids, skip_special_tokens=True)\n",
        "    return full_outputs[0].split(\"### Answer:\\n\")[-1].strip()\n"
      ],
      "metadata": {
        "id": "aypy-hpcKSaG",
        "cellView": "form"
      },
      "execution_count": null,
      "outputs": []
    },
    {
      "cell_type": "markdown",
      "source": [
        "## (3)Do translation"
      ],
      "metadata": {
        "id": "2A6hrL9rptoi"
      }
    },
    {
      "cell_type": "code",
      "execution_count": null,
      "metadata": {
        "id": "UewwoJ2FAOP4",
        "cellView": "form",
        "collapsed": true
      },
      "outputs": [],
      "source": [
        "\n",
        "\n",
        "#@title Translate line by line and write to file\n",
        "import chardet  # Required for character encoding detection\n",
        "\n",
        "for filename in uploaded.keys():\n",
        "    translated_sentences = []\n",
        "\n",
        "    with open(filename, \"rb\") as file:  # Read file in binary mode\n",
        "        binary_content = file.read()\n",
        "        detected_encoding = chardet.detect(binary_content)[\"encoding\"] or \"sjis\"\n",
        "        content = binary_content.decode(detected_encoding).encode(\"utf-8\").decode(\"utf-8\")  # Convert to utf-8\n",
        "\n",
        "        if Translation_direction == 'Japanese to English':\n",
        "            if contains_japanese(content):\n",
        "              sentences = [s for s in content.split('。') if s]\n",
        "              sentences = [item for sublist in [s.split('\\n') for s in sentences] for item in sublist]\n",
        "            else:\n",
        "              print(content)\n",
        "              sentences = [content]\n",
        "        else:\n",
        "            sentences = [s for s in content.split('.') if s]\n",
        "            sentences = [item for sublist in [s.split('\\n') for s in sentences] for item in sublist]\n",
        "\n",
        "    for sentence in sentences:\n",
        "        sentence = sentence.strip()\n",
        "        if len(sentence) > 0:\n",
        "            if Translation_direction == 'Japanese to English':\n",
        "                if contains_japanese(content):\n",
        "                    ja_prompt = f\"### Instructions:\\nTranslate Japanese to English.\\n### Input:\\n{sentence}\\n### Answer:\\n\"\n",
        "                    translated_sentences.append(trans(ja_prompt, model, tokenizer, Translation_direction))\n",
        "                else:\n",
        "                    translated_sentences.append(sentence)\n",
        "            else:\n",
        "                en_prompt = f\"### Instructions:\\nTranslate English to Japanese.\\n### Input:\\n{sentence}\\n### Answer:\\n\"\n",
        "                translated_sentences.append(trans(en_prompt, model, tokenizer, Translation_direction))\n",
        "        else:\n",
        "          translated_sentences.append(\"\")\n",
        "\n",
        "    output_filename = filename.replace('.txt', '_Ja_to_En.txt') if Translation_direction == 'Japanese to English' else filename.replace('.txt', '_En_to_Ja.txt')\n",
        "    with open(output_filename, 'w', encoding='utf-8') as f:\n",
        "        f.write('\\n'.join(translated_sentences))\n",
        "\n",
        "    print(f\"Translation compleated. please download files.: {output_filename}\")\n",
        "    files.download(output_filename)\n"
      ]
    }
  ],
  "metadata": {
    "accelerator": "GPU",
    "colab": {
      "provenance": [],
      "mount_file_id": "1RgbYSzxcfWyYSgfiOoPy30SBrRS5k1Rl",
      "authorship_tag": "ABX9TyOQwlC6zsep0yzxHQhv1cLe",
      "include_colab_link": true
    },
    "kernelspec": {
      "display_name": "Python 3",
      "name": "python3"
    },
    "language_info": {
      "name": "python"
    }
  },
  "nbformat": 4,
  "nbformat_minor": 0
}